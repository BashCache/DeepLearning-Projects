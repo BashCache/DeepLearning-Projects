{
 "cells": [
  {
   "cell_type": "markdown",
   "id": "28f4feea",
   "metadata": {},
   "source": [
    "### Importing packages"
   ]
  },
  {
   "cell_type": "code",
   "execution_count": 1,
   "id": "bf9a03c1",
   "metadata": {},
   "outputs": [
    {
     "name": "stderr",
     "output_type": "stream",
     "text": [
      "[nltk_data] Downloading package stopwords to\n",
      "[nltk_data]     C:\\Users\\Admin\\AppData\\Roaming\\nltk_data...\n",
      "[nltk_data]   Package stopwords is already up-to-date!\n",
      "[nltk_data] Downloading package punkt to\n",
      "[nltk_data]     C:\\Users\\Admin\\AppData\\Roaming\\nltk_data...\n",
      "[nltk_data]   Package punkt is already up-to-date!\n",
      "[nltk_data] Downloading package wordnet to\n",
      "[nltk_data]     C:\\Users\\Admin\\AppData\\Roaming\\nltk_data...\n",
      "[nltk_data]   Package wordnet is already up-to-date!\n"
     ]
    }
   ],
   "source": [
    "import pandas as pd\n",
    "import numpy as np\n",
    "import matplotlib.pyplot as plt\n",
    "import os\n",
    "import json\n",
    "import re\n",
    "import itertools\n",
    "import nltk\n",
    "import tensorflow as tf\n",
    "\n",
    "nltk.download('stopwords') # for stopwords\n",
    "nltk.download('punkt')    # for tokenizing\n",
    "nltk.download('wordnet')  # for lemmatizing\n",
    "from nltk.stem import PorterStemmer\n",
    "from nltk.corpus import stopwords\n",
    "from nltk.tokenize import word_tokenize\n",
    "from nltk.stem import WordNetLemmatizer\n",
    "\n",
    "from sklearn.feature_extraction.text import TfidfVectorizer\n",
    "from sklearn.model_selection import train_test_split\n",
    "from sklearn.linear_model import LogisticRegression\n",
    "from sklearn.metrics import precision_recall_fscore_support\n",
    "from sklearn import preprocessing\n",
    "from sklearn.model_selection import cross_val_score, StratifiedKFold\n",
    "from sklearn.metrics import confusion_matrix, classification_report\n",
    "\n",
    "from keras.models import Sequential\n",
    "from keras.layers import Conv2D, MaxPooling2D, Activation, Dropout, Flatten, Dense, BatchNormalization\n",
    "from keras.utils import to_categorical\n",
    "from keras.regularizers import l2\n",
    "from keras import regularizers\n",
    "\n",
    "import warnings\n",
    "warnings.filterwarnings(\"ignore\")\n",
    "\n",
    "from tensorflow.keras.callbacks import EarlyStopping\n",
    "tf.config.run_functions_eagerly(True)\n",
    "\n",
    "%matplotlib inline"
   ]
  },
  {
   "cell_type": "markdown",
   "id": "058291a8",
   "metadata": {},
   "source": [
    "### Reading JSON file"
   ]
  },
  {
   "cell_type": "code",
   "execution_count": 2,
   "id": "7c675f8d",
   "metadata": {},
   "outputs": [],
   "source": [
    "data = []\n",
    "with open('News Dataset.json', mode='r', errors='ignore') as json_file:\n",
    "    for dict in json_file:\n",
    "        data.append( json.loads(dict) )"
   ]
  },
  {
   "cell_type": "code",
   "execution_count": 3,
   "id": "512c9757",
   "metadata": {},
   "outputs": [
    {
     "name": "stdout",
     "output_type": "stream",
     "text": [
      "No of news articles:  200853\n",
      "Random data:  {'category': 'ENTERTAINMENT', 'headline': \"James Corden And Adam Levine Get Pulled Over During 'Carpool Karaoke'\", 'authors': 'Ed Mazza', 'link': 'https://www.huffingtonpost.com/entry/james-corden-adam-levine-carpool-karaoke-pulled-over_us_5b07b025e4b0fdb2aa5206b9', 'short_description': 'It was bound to happen.', 'date': '2018-05-25'}\n"
     ]
    }
   ],
   "source": [
    "print(\"No of news articles: \", len(data))\n",
    "print(\"Random data: \" , data[50])"
   ]
  },
  {
   "cell_type": "markdown",
   "id": "6196fb67",
   "metadata": {},
   "source": [
    "#### Only category, headline and short description is relevant. Hence, we use only these 3 columns"
   ]
  },
  {
   "cell_type": "code",
   "execution_count": 4,
   "id": "f9e3f5f4",
   "metadata": {},
   "outputs": [
    {
     "data": {
      "text/html": [
       "<div>\n",
       "<style scoped>\n",
       "    .dataframe tbody tr th:only-of-type {\n",
       "        vertical-align: middle;\n",
       "    }\n",
       "\n",
       "    .dataframe tbody tr th {\n",
       "        vertical-align: top;\n",
       "    }\n",
       "\n",
       "    .dataframe thead th {\n",
       "        text-align: right;\n",
       "    }\n",
       "</style>\n",
       "<table border=\"1\" class=\"dataframe\">\n",
       "  <thead>\n",
       "    <tr style=\"text-align: right;\">\n",
       "      <th></th>\n",
       "      <th>category</th>\n",
       "      <th>headline</th>\n",
       "      <th>short_description</th>\n",
       "    </tr>\n",
       "  </thead>\n",
       "  <tbody>\n",
       "    <tr>\n",
       "      <th>0</th>\n",
       "      <td>CRIME</td>\n",
       "      <td>There Were 2 Mass Shootings In Texas Last Week...</td>\n",
       "      <td>She left her husband. He killed their children...</td>\n",
       "    </tr>\n",
       "    <tr>\n",
       "      <th>1</th>\n",
       "      <td>ENTERTAINMENT</td>\n",
       "      <td>Will Smith Joins Diplo And Nicky Jam For The 2...</td>\n",
       "      <td>Of course it has a song.</td>\n",
       "    </tr>\n",
       "    <tr>\n",
       "      <th>2</th>\n",
       "      <td>ENTERTAINMENT</td>\n",
       "      <td>Hugh Grant Marries For The First Time At Age 57</td>\n",
       "      <td>The actor and his longtime girlfriend Anna Ebe...</td>\n",
       "    </tr>\n",
       "    <tr>\n",
       "      <th>3</th>\n",
       "      <td>ENTERTAINMENT</td>\n",
       "      <td>Jim Carrey Blasts 'Castrato' Adam Schiff And D...</td>\n",
       "      <td>The actor gives Dems an ass-kicking for not fi...</td>\n",
       "    </tr>\n",
       "    <tr>\n",
       "      <th>4</th>\n",
       "      <td>ENTERTAINMENT</td>\n",
       "      <td>Julianna Margulies Uses Donald Trump Poop Bags...</td>\n",
       "      <td>The \"Dietland\" actress said using the bags is ...</td>\n",
       "    </tr>\n",
       "    <tr>\n",
       "      <th>...</th>\n",
       "      <td>...</td>\n",
       "      <td>...</td>\n",
       "      <td>...</td>\n",
       "    </tr>\n",
       "    <tr>\n",
       "      <th>200848</th>\n",
       "      <td>TECH</td>\n",
       "      <td>RIM CEO Thorsten Heins' 'Significant' Plans Fo...</td>\n",
       "      <td>Verizon Wireless and AT&amp;T are already promotin...</td>\n",
       "    </tr>\n",
       "    <tr>\n",
       "      <th>200849</th>\n",
       "      <td>SPORTS</td>\n",
       "      <td>Maria Sharapova Stunned By Victoria Azarenka I...</td>\n",
       "      <td>Afterward, Azarenka, more effusive with the pr...</td>\n",
       "    </tr>\n",
       "    <tr>\n",
       "      <th>200850</th>\n",
       "      <td>SPORTS</td>\n",
       "      <td>Giants Over Patriots, Jets Over Colts Among  M...</td>\n",
       "      <td>Leading up to Super Bowl XLVI, the most talked...</td>\n",
       "    </tr>\n",
       "    <tr>\n",
       "      <th>200851</th>\n",
       "      <td>SPORTS</td>\n",
       "      <td>Aldon Smith Arrested: 49ers Linebacker Busted ...</td>\n",
       "      <td>CORRECTION: An earlier version of this story i...</td>\n",
       "    </tr>\n",
       "    <tr>\n",
       "      <th>200852</th>\n",
       "      <td>SPORTS</td>\n",
       "      <td>Dwight Howard Rips Teammates After Magic Loss ...</td>\n",
       "      <td>The five-time all-star center tore into his te...</td>\n",
       "    </tr>\n",
       "  </tbody>\n",
       "</table>\n",
       "<p>200853 rows × 3 columns</p>\n",
       "</div>"
      ],
      "text/plain": [
       "             category                                           headline  \\\n",
       "0               CRIME  There Were 2 Mass Shootings In Texas Last Week...   \n",
       "1       ENTERTAINMENT  Will Smith Joins Diplo And Nicky Jam For The 2...   \n",
       "2       ENTERTAINMENT    Hugh Grant Marries For The First Time At Age 57   \n",
       "3       ENTERTAINMENT  Jim Carrey Blasts 'Castrato' Adam Schiff And D...   \n",
       "4       ENTERTAINMENT  Julianna Margulies Uses Donald Trump Poop Bags...   \n",
       "...               ...                                                ...   \n",
       "200848           TECH  RIM CEO Thorsten Heins' 'Significant' Plans Fo...   \n",
       "200849         SPORTS  Maria Sharapova Stunned By Victoria Azarenka I...   \n",
       "200850         SPORTS  Giants Over Patriots, Jets Over Colts Among  M...   \n",
       "200851         SPORTS  Aldon Smith Arrested: 49ers Linebacker Busted ...   \n",
       "200852         SPORTS  Dwight Howard Rips Teammates After Magic Loss ...   \n",
       "\n",
       "                                        short_description  \n",
       "0       She left her husband. He killed their children...  \n",
       "1                                Of course it has a song.  \n",
       "2       The actor and his longtime girlfriend Anna Ebe...  \n",
       "3       The actor gives Dems an ass-kicking for not fi...  \n",
       "4       The \"Dietland\" actress said using the bags is ...  \n",
       "...                                                   ...  \n",
       "200848  Verizon Wireless and AT&T are already promotin...  \n",
       "200849  Afterward, Azarenka, more effusive with the pr...  \n",
       "200850  Leading up to Super Bowl XLVI, the most talked...  \n",
       "200851  CORRECTION: An earlier version of this story i...  \n",
       "200852  The five-time all-star center tore into his te...  \n",
       "\n",
       "[200853 rows x 3 columns]"
      ]
     },
     "execution_count": 4,
     "metadata": {},
     "output_type": "execute_result"
    }
   ],
   "source": [
    "df = pd.DataFrame(data)\n",
    "df = df[['category', 'headline', 'short_description']]\n",
    "df"
   ]
  },
  {
   "cell_type": "code",
   "execution_count": 5,
   "id": "f6ce796f",
   "metadata": {},
   "outputs": [
    {
     "data": {
      "text/plain": [
       "<AxesSubplot:>"
      ]
     },
     "execution_count": 5,
     "metadata": {},
     "output_type": "execute_result"
    },
    {
     "data": {
      "image/png": "[encoded data removed]",
      "text/plain": [
       "<Figure size 432x288 with 1 Axes>"
      ]
     },
     "metadata": {
      "needs_background": "light"
     },
     "output_type": "display_data"
    }
   ],
   "source": [
    "df['category'].value_counts().plot(kind='bar')"
   ]
  },
  {
   "cell_type": "markdown",
   "id": "53d0a523",
   "metadata": {},
   "source": [
    "#### There are 30 categories and since the count is skewed we take only 5 categories and 4000 values from each category"
   ]
  },
  {
   "cell_type": "code",
   "execution_count": 6,
   "id": "03ae88c2",
   "metadata": {},
   "outputs": [
    {
     "data": {
      "text/plain": [
       "(65844, 3)"
      ]
     },
     "execution_count": 6,
     "metadata": {},
     "output_type": "execute_result"
    }
   ],
   "source": [
    "#  politics, entertainment, sports, business, food & drink\n",
    "df = df[df['category'].isin(['POLITICS', 'ENTERTAINMENT', 'SPORTS', 'BUSINESS', 'FOOD & DRINK'])]\n",
    "df.shape"
   ]
  },
  {
   "cell_type": "code",
   "execution_count": 7,
   "id": "05d5e1b7",
   "metadata": {},
   "outputs": [],
   "source": [
    "df_politics = df[df['category'].isin(['POLITICS'])].sample(n=4000)\n",
    "df_entertainment = df[df['category'].isin(['ENTERTAINMENT'])].sample(n=4000)\n",
    "df_sports = df[df['category'].isin(['SPORTS'])].sample(n=4000)\n",
    "df_business = df[df['category'].isin(['BUSINESS'])].sample(n=4000)\n",
    "df_foodanddrink = df[df['category'].isin(['FOOD & DRINK'])].sample(n=4000)"
   ]
  },
  {
   "cell_type": "code",
   "execution_count": 8,
   "id": "a03adc20",
   "metadata": {},
   "outputs": [
    {
     "name": "stdout",
     "output_type": "stream",
     "text": [
      "(4000, 3) (4000, 3) (4000, 3) (4000, 3) (4000, 3)\n"
     ]
    }
   ],
   "source": [
    "print(df_politics.shape, df_entertainment.shape, df_sports.shape, df_business.shape, df_foodanddrink.shape)"
   ]
  },
  {
   "cell_type": "code",
   "execution_count": 9,
   "id": "26726297",
   "metadata": {},
   "outputs": [],
   "source": [
    "new_df = df_politics \n",
    "new_df = new_df.append(df_entertainment, ignore_index = True)\n",
    "new_df = new_df.append(df_sports, ignore_index = True)\n",
    "new_df = new_df.append(df_business, ignore_index = True)\n",
    "new_df = new_df.append(df_foodanddrink, ignore_index = True)\n",
    "# + df_entertainment + df_sports + df_business + df_foodanddrink"
   ]
  },
  {
   "cell_type": "code",
   "execution_count": 10,
   "id": "39b6293a",
   "metadata": {},
   "outputs": [],
   "source": [
    "new_df[\"headline and short_description combined\"] = new_df[\"headline\"] + new_df[\"short_description\"]"
   ]
  },
  {
   "cell_type": "code",
   "execution_count": 11,
   "id": "8dfe476a",
   "metadata": {},
   "outputs": [
    {
     "name": "stdout",
     "output_type": "stream",
     "text": [
      "Shape of redefined data:  (20000, 4)\n"
     ]
    },
    {
     "data": {
      "text/html": [
       "<div>\n",
       "<style scoped>\n",
       "    .dataframe tbody tr th:only-of-type {\n",
       "        vertical-align: middle;\n",
       "    }\n",
       "\n",
       "    .dataframe tbody tr th {\n",
       "        vertical-align: top;\n",
       "    }\n",
       "\n",
       "    .dataframe thead th {\n",
       "        text-align: right;\n",
       "    }\n",
       "</style>\n",
       "<table border=\"1\" class=\"dataframe\">\n",
       "  <thead>\n",
       "    <tr style=\"text-align: right;\">\n",
       "      <th></th>\n",
       "      <th>category</th>\n",
       "      <th>headline</th>\n",
       "      <th>short_description</th>\n",
       "      <th>headline and short_description combined</th>\n",
       "    </tr>\n",
       "  </thead>\n",
       "  <tbody>\n",
       "    <tr>\n",
       "      <th>0</th>\n",
       "      <td>POLITICS</td>\n",
       "      <td>A Call To \"Winter Soldiers of Conscience\"!</td>\n",
       "      <td></td>\n",
       "      <td>A Call To \"Winter Soldiers of Conscience\"!</td>\n",
       "    </tr>\n",
       "    <tr>\n",
       "      <th>1</th>\n",
       "      <td>POLITICS</td>\n",
       "      <td>63 Percent Of Americans Believe Donald Trump T...</td>\n",
       "      <td>And 40 percent believe he did something \"illeg...</td>\n",
       "      <td>63 Percent Of Americans Believe Donald Trump T...</td>\n",
       "    </tr>\n",
       "    <tr>\n",
       "      <th>2</th>\n",
       "      <td>POLITICS</td>\n",
       "      <td>Fake Vigils Honor Victims Of Kellyanne Conway'...</td>\n",
       "      <td>\"Never remember, always forget!\"</td>\n",
       "      <td>Fake Vigils Honor Victims Of Kellyanne Conway'...</td>\n",
       "    </tr>\n",
       "    <tr>\n",
       "      <th>3</th>\n",
       "      <td>POLITICS</td>\n",
       "      <td>The Real Attack on the Spirit of Christmas</td>\n",
       "      <td>The principle that one should \"love they neigh...</td>\n",
       "      <td>The Real Attack on the Spirit of ChristmasThe ...</td>\n",
       "    </tr>\n",
       "    <tr>\n",
       "      <th>4</th>\n",
       "      <td>POLITICS</td>\n",
       "      <td>Sen. Mark Warner Warns Trump: Firing Robert Mu...</td>\n",
       "      <td>Sen. Mark Warner also slammed Republicans and ...</td>\n",
       "      <td>Sen. Mark Warner Warns Trump: Firing Robert Mu...</td>\n",
       "    </tr>\n",
       "    <tr>\n",
       "      <th>...</th>\n",
       "      <td>...</td>\n",
       "      <td>...</td>\n",
       "      <td>...</td>\n",
       "      <td>...</td>\n",
       "    </tr>\n",
       "    <tr>\n",
       "      <th>19995</th>\n",
       "      <td>FOOD &amp; DRINK</td>\n",
       "      <td>Bubbles Rising: Sparkling Trend in Santa Barbara?</td>\n",
       "      <td>An increasing number of excellent Santa Barbar...</td>\n",
       "      <td>Bubbles Rising: Sparkling Trend in Santa Barba...</td>\n",
       "    </tr>\n",
       "    <tr>\n",
       "      <th>19996</th>\n",
       "      <td>FOOD &amp; DRINK</td>\n",
       "      <td>The 8 Secrets to Beating Everyone in Flip Cup</td>\n",
       "      <td>There are two ways to become a superior flip c...</td>\n",
       "      <td>The 8 Secrets to Beating Everyone in Flip CupT...</td>\n",
       "    </tr>\n",
       "    <tr>\n",
       "      <th>19997</th>\n",
       "      <td>FOOD &amp; DRINK</td>\n",
       "      <td>Drew Brees Is a __________!</td>\n",
       "      <td>There weren't many middle of the road opinions...</td>\n",
       "      <td>Drew Brees Is a __________!There weren't many ...</td>\n",
       "    </tr>\n",
       "    <tr>\n",
       "      <th>19998</th>\n",
       "      <td>FOOD &amp; DRINK</td>\n",
       "      <td>Mighty Spice vs. BarChick -- Round 5</td>\n",
       "      <td>I have teamed up with the awesome BarChick lad...</td>\n",
       "      <td>Mighty Spice vs. BarChick -- Round 5I have tea...</td>\n",
       "    </tr>\n",
       "    <tr>\n",
       "      <th>19999</th>\n",
       "      <td>FOOD &amp; DRINK</td>\n",
       "      <td>Make a Better Eggplant Parmesan</td>\n",
       "      <td>Classic Eggplant Parmesan gets a fancy new top...</td>\n",
       "      <td>Make a Better Eggplant ParmesanClassic Eggplan...</td>\n",
       "    </tr>\n",
       "  </tbody>\n",
       "</table>\n",
       "<p>20000 rows × 4 columns</p>\n",
       "</div>"
      ],
      "text/plain": [
       "           category                                           headline  \\\n",
       "0          POLITICS         A Call To \"Winter Soldiers of Conscience\"!   \n",
       "1          POLITICS  63 Percent Of Americans Believe Donald Trump T...   \n",
       "2          POLITICS  Fake Vigils Honor Victims Of Kellyanne Conway'...   \n",
       "3          POLITICS         The Real Attack on the Spirit of Christmas   \n",
       "4          POLITICS  Sen. Mark Warner Warns Trump: Firing Robert Mu...   \n",
       "...             ...                                                ...   \n",
       "19995  FOOD & DRINK  Bubbles Rising: Sparkling Trend in Santa Barbara?   \n",
       "19996  FOOD & DRINK      The 8 Secrets to Beating Everyone in Flip Cup   \n",
       "19997  FOOD & DRINK                        Drew Brees Is a __________!   \n",
       "19998  FOOD & DRINK               Mighty Spice vs. BarChick -- Round 5   \n",
       "19999  FOOD & DRINK                    Make a Better Eggplant Parmesan   \n",
       "\n",
       "                                       short_description  \\\n",
       "0                                                          \n",
       "1      And 40 percent believe he did something \"illeg...   \n",
       "2                       \"Never remember, always forget!\"   \n",
       "3      The principle that one should \"love they neigh...   \n",
       "4      Sen. Mark Warner also slammed Republicans and ...   \n",
       "...                                                  ...   \n",
       "19995  An increasing number of excellent Santa Barbar...   \n",
       "19996  There are two ways to become a superior flip c...   \n",
       "19997  There weren't many middle of the road opinions...   \n",
       "19998  I have teamed up with the awesome BarChick lad...   \n",
       "19999  Classic Eggplant Parmesan gets a fancy new top...   \n",
       "\n",
       "                 headline and short_description combined  \n",
       "0             A Call To \"Winter Soldiers of Conscience\"!  \n",
       "1      63 Percent Of Americans Believe Donald Trump T...  \n",
       "2      Fake Vigils Honor Victims Of Kellyanne Conway'...  \n",
       "3      The Real Attack on the Spirit of ChristmasThe ...  \n",
       "4      Sen. Mark Warner Warns Trump: Firing Robert Mu...  \n",
       "...                                                  ...  \n",
       "19995  Bubbles Rising: Sparkling Trend in Santa Barba...  \n",
       "19996  The 8 Secrets to Beating Everyone in Flip CupT...  \n",
       "19997  Drew Brees Is a __________!There weren't many ...  \n",
       "19998  Mighty Spice vs. BarChick -- Round 5I have tea...  \n",
       "19999  Make a Better Eggplant ParmesanClassic Eggplan...  \n",
       "\n",
       "[20000 rows x 4 columns]"
      ]
     },
     "execution_count": 11,
     "metadata": {},
     "output_type": "execute_result"
    }
   ],
   "source": [
    "print('Shape of redefined data: ', new_df.shape)\n",
    "new_df"
   ]
  },
  {
   "cell_type": "code",
   "execution_count": 12,
   "id": "c48f20b3",
   "metadata": {},
   "outputs": [
    {
     "data": {
      "text/plain": [
       "<AxesSubplot:>"
      ]
     },
     "execution_count": 12,
     "metadata": {},
     "output_type": "execute_result"
    },
    {
     "data": {
      "image/png": "[encoded data removed]",
      "text/plain": [
       "<Figure size 432x288 with 1 Axes>"
      ]
     },
     "metadata": {
      "needs_background": "light"
     },
     "output_type": "display_data"
    }
   ],
   "source": [
    "new_df['category'].value_counts().plot(kind='bar')"
   ]
  },
  {
   "cell_type": "markdown",
   "id": "7d10d91a",
   "metadata": {},
   "source": [
    "## Text Pre-processing"
   ]
  },
  {
   "cell_type": "markdown",
   "id": "8f736225",
   "metadata": {},
   "source": [
    "### Removing stop words and noise"
   ]
  },
  {
   "cell_type": "markdown",
   "id": "3aec485e",
   "metadata": {},
   "source": [
    "Convert to lower case. Remove punctuations, tokenize and remove sto words"
   ]
  },
  {
   "cell_type": "code",
   "execution_count": 13,
   "id": "f42f24fa",
   "metadata": {},
   "outputs": [
    {
     "name": "stdout",
     "output_type": "stream",
     "text": [
      "Filtered sentence after removing stop words:  ['project', 'based', 'text', 'processing', 'hope', 'accuracy', 'good']\n"
     ]
    }
   ],
   "source": [
    "stop_words = set(stopwords.words('english'))\n",
    "text = \"This project is based on text processing. Hope the accuracy will be good.\"\n",
    "text = re.sub(r'[^\\w\\s]', '', str(text).lower().strip())\n",
    "word_tokens = word_tokenize(text)\n",
    "filtered_sentence = []\n",
    "\n",
    "for w in word_tokens:\n",
    "    if w not in stop_words:\n",
    "        filtered_sentence.append(w)\n",
    "        \n",
    "print(\"Filtered sentence after removing stop words: \" , filtered_sentence)"
   ]
  },
  {
   "cell_type": "markdown",
   "id": "6d032bba",
   "metadata": {},
   "source": [
    "### Stemming"
   ]
  },
  {
   "cell_type": "markdown",
   "id": "2aa0dc21",
   "metadata": {},
   "source": [
    "Remove suffixes like -ed, -ing, -ly, -tion"
   ]
  },
  {
   "cell_type": "code",
   "execution_count": 14,
   "id": "82e45f5a",
   "metadata": {},
   "outputs": [
    {
     "name": "stdout",
     "output_type": "stream",
     "text": [
      "Stemmed words:  ['project', 'base', 'text', 'process', 'hope', 'accuraci', 'good']\n"
     ]
    }
   ],
   "source": [
    "ps = PorterStemmer()\n",
    "stemmed_word = []\n",
    "for w in filtered_sentence:\n",
    "    stemmed_word.append(ps.stem(w))\n",
    "    \n",
    "print(\"Stemmed words: \" , stemmed_word)"
   ]
  },
  {
   "cell_type": "markdown",
   "id": "93acba15",
   "metadata": {},
   "source": [
    "### Lemmatization"
   ]
  },
  {
   "cell_type": "markdown",
   "id": "c034c97c",
   "metadata": {},
   "source": [
    "Eliminate redundant prefix or suffix and get the root word"
   ]
  },
  {
   "cell_type": "code",
   "execution_count": 15,
   "id": "6af085a7",
   "metadata": {},
   "outputs": [
    {
     "name": "stdout",
     "output_type": "stream",
     "text": [
      "Lemmatized words:  ['project', 'base', 'text', 'process', 'hope', 'accuraci', 'good']\n",
      "Example:  playing\n"
     ]
    }
   ],
   "source": [
    "lemmatizer = WordNetLemmatizer()\n",
    "lemmatized_word = []\n",
    "for w in stemmed_word:\n",
    "    lemmatized_word.append(lemmatizer.lemmatize(w))\n",
    "    \n",
    "print(\"Lemmatized words: \", lemmatized_word)\n",
    "\n",
    "# Example \n",
    "print(\"Example: \", lemmatizer.lemmatize(\"playing\"))"
   ]
  },
  {
   "cell_type": "markdown",
   "id": "9314d526",
   "metadata": {},
   "source": [
    "### Combining all preprocessing functions"
   ]
  },
  {
   "cell_type": "code",
   "execution_count": 16,
   "id": "5da8d84c",
   "metadata": {},
   "outputs": [],
   "source": [
    "def pre_process(text):\n",
    "    text = re.sub(r'[^\\w\\s]', '', str(text).lower().strip())\n",
    "    word_tokens = word_tokenize(text)\n",
    "    filtered_sentence = []\n",
    "\n",
    "    for w in word_tokens:\n",
    "        if w not in stop_words:\n",
    "            filtered_sentence.append(w)\n",
    "            \n",
    "    stemmed_word = []\n",
    "    for w in filtered_sentence:\n",
    "        stemmed_word.append(ps.stem(w))\n",
    "    \n",
    "    lemmatized_word = []\n",
    "    for w in filtered_sentence:\n",
    "        lemmatized_word.append(lemmatizer.lemmatize(w))\n",
    "        \n",
    "    text = \" \".join(lemmatized_word)\n",
    "    return text\n",
    "    "
   ]
  },
  {
   "cell_type": "code",
   "execution_count": 17,
   "id": "28a30454",
   "metadata": {},
   "outputs": [],
   "source": [
    "new_df[\"headline_cleaned\"] = new_df[\"headline\"].apply(lambda x: pre_process(x))\n",
    "new_df[\"short_description_cleaned\"] = new_df[\"short_description\"].apply(lambda x: pre_process(x))\n",
    "new_df[\"headline_and_short_description_combined_cleaned\"] = new_df[\"headline and short_description combined\"].apply(lambda x: pre_process(x))"
   ]
  },
  {
   "cell_type": "markdown",
   "id": "20671626",
   "metadata": {},
   "source": [
    "### Shuffling the data randomly"
   ]
  },
  {
   "cell_type": "code",
   "execution_count": 18,
   "id": "22892b74",
   "metadata": {},
   "outputs": [
    {
     "data": {
      "text/html": [
       "<div>\n",
       "<style scoped>\n",
       "    .dataframe tbody tr th:only-of-type {\n",
       "        vertical-align: middle;\n",
       "    }\n",
       "\n",
       "    .dataframe tbody tr th {\n",
       "        vertical-align: top;\n",
       "    }\n",
       "\n",
       "    .dataframe thead th {\n",
       "        text-align: right;\n",
       "    }\n",
       "</style>\n",
       "<table border=\"1\" class=\"dataframe\">\n",
       "  <thead>\n",
       "    <tr style=\"text-align: right;\">\n",
       "      <th></th>\n",
       "      <th>category</th>\n",
       "      <th>headline</th>\n",
       "      <th>short_description</th>\n",
       "      <th>headline and short_description combined</th>\n",
       "      <th>headline_cleaned</th>\n",
       "      <th>short_description_cleaned</th>\n",
       "      <th>headline_and_short_description_combined_cleaned</th>\n",
       "    </tr>\n",
       "  </thead>\n",
       "  <tbody>\n",
       "    <tr>\n",
       "      <th>0</th>\n",
       "      <td>SPORTS</td>\n",
       "      <td>Ferguson, the Murder of Michael Brown, and the...</td>\n",
       "      <td>Some folks say baseball has nothing to do with...</td>\n",
       "      <td>Ferguson, the Murder of Michael Brown, and the...</td>\n",
       "      <td>ferguson murder michael brown st louis cardinal</td>\n",
       "      <td>folk say baseball nothing race relation st lou...</td>\n",
       "      <td>ferguson murder michael brown st louis cardina...</td>\n",
       "    </tr>\n",
       "    <tr>\n",
       "      <th>1</th>\n",
       "      <td>SPORTS</td>\n",
       "      <td>Kings Lose to Raptors, Without Cousins Again</td>\n",
       "      <td>The best thing about \"hot\" teams is that they ...</td>\n",
       "      <td>Kings Lose to Raptors, Without Cousins AgainTh...</td>\n",
       "      <td>king lose raptor without cousin</td>\n",
       "      <td>best thing hot team eventually cool unfortunat...</td>\n",
       "      <td>king lose raptor without cousin againthe best ...</td>\n",
       "    </tr>\n",
       "    <tr>\n",
       "      <th>2</th>\n",
       "      <td>ENTERTAINMENT</td>\n",
       "      <td>Beyoncé And Jay-Z Enjoy A Kid-Free Evening At ...</td>\n",
       "      <td>Bey even caught a performance of \"Dear Evan Ha...</td>\n",
       "      <td>Beyoncé And Jay-Z Enjoy A Kid-Free Evening At ...</td>\n",
       "      <td>beyoncé jayz enjoy kidfree evening rihannas di...</td>\n",
       "      <td>bey even caught performance dear evan hansen gala</td>\n",
       "      <td>beyoncé jayz enjoy kidfree evening rihannas di...</td>\n",
       "    </tr>\n",
       "    <tr>\n",
       "      <th>3</th>\n",
       "      <td>ENTERTAINMENT</td>\n",
       "      <td>Exclusive: Lawyer Of Woman Who Says Brett Ratn...</td>\n",
       "      <td>“It’s hardly a surprise that they picked one w...</td>\n",
       "      <td>Exclusive: Lawyer Of Woman Who Says Brett Ratn...</td>\n",
       "      <td>exclusive lawyer woman say brett ratner raped ...</td>\n",
       "      <td>hardly surprise picked one woman victimize eff...</td>\n",
       "      <td>exclusive lawyer woman say brett ratner raped ...</td>\n",
       "    </tr>\n",
       "    <tr>\n",
       "      <th>4</th>\n",
       "      <td>FOOD &amp; DRINK</td>\n",
       "      <td>Pavlova Recipes: Gorgeous Meringue Desserts We...</td>\n",
       "      <td>Warning: these images will make you extremely ...</td>\n",
       "      <td>Pavlova Recipes: Gorgeous Meringue Desserts We...</td>\n",
       "      <td>pavlova recipe gorgeous meringue dessert cant ...</td>\n",
       "      <td>warning image make extremely hungry</td>\n",
       "      <td>pavlova recipe gorgeous meringue dessert cant ...</td>\n",
       "    </tr>\n",
       "    <tr>\n",
       "      <th>...</th>\n",
       "      <td>...</td>\n",
       "      <td>...</td>\n",
       "      <td>...</td>\n",
       "      <td>...</td>\n",
       "      <td>...</td>\n",
       "      <td>...</td>\n",
       "      <td>...</td>\n",
       "    </tr>\n",
       "    <tr>\n",
       "      <th>19995</th>\n",
       "      <td>POLITICS</td>\n",
       "      <td>Jeff Sessions Reportedly Revives Probe Of Uran...</td>\n",
       "      <td>An FBI investigation into Hillary Clinton's ti...</td>\n",
       "      <td>Jeff Sessions Reportedly Revives Probe Of Uran...</td>\n",
       "      <td>jeff session reportedly revives probe uranium ...</td>\n",
       "      <td>fbi investigation hillary clinton tie deal fou...</td>\n",
       "      <td>jeff session reportedly revives probe uranium ...</td>\n",
       "    </tr>\n",
       "    <tr>\n",
       "      <th>19996</th>\n",
       "      <td>FOOD &amp; DRINK</td>\n",
       "      <td>The Best Cheese Stores in the World: Venissimo...</td>\n",
       "      <td>Did you say cheese? We're not talking Velveeta.</td>\n",
       "      <td>The Best Cheese Stores in the World: Venissimo...</td>\n",
       "      <td>best cheese store world venissimo murray new york</td>\n",
       "      <td>say cheese talking velveeta</td>\n",
       "      <td>best cheese store world venissimo murray new y...</td>\n",
       "    </tr>\n",
       "    <tr>\n",
       "      <th>19997</th>\n",
       "      <td>BUSINESS</td>\n",
       "      <td>8 Powerful Habits Of Profoundly Influential Pe...</td>\n",
       "      <td>Influential people have a profound impact on e...</td>\n",
       "      <td>8 Powerful Habits Of Profoundly Influential Pe...</td>\n",
       "      <td>8 powerful habit profoundly influential people</td>\n",
       "      <td>influential people profound impact everyone en...</td>\n",
       "      <td>8 powerful habit profoundly influential people...</td>\n",
       "    </tr>\n",
       "    <tr>\n",
       "      <th>19998</th>\n",
       "      <td>ENTERTAINMENT</td>\n",
       "      <td>John Mollo, 'Star Wars' Costume Designer, Dead...</td>\n",
       "      <td>The Oscar winner, who designed the looks of \"S...</td>\n",
       "      <td>John Mollo, 'Star Wars' Costume Designer, Dead...</td>\n",
       "      <td>john mollo star war costume designer dead 86</td>\n",
       "      <td>oscar winner designed look star war empire str...</td>\n",
       "      <td>john mollo star war costume designer dead 86th...</td>\n",
       "    </tr>\n",
       "    <tr>\n",
       "      <th>19999</th>\n",
       "      <td>POLITICS</td>\n",
       "      <td>Obama: I'm Tired Of People 'Trash Talking Amer...</td>\n",
       "      <td>Are you listening, Donald Trump?</td>\n",
       "      <td>Obama: I'm Tired Of People 'Trash Talking Amer...</td>\n",
       "      <td>obama im tired people trash talking america mi...</td>\n",
       "      <td>listening donald trump</td>\n",
       "      <td>obama im tired people trash talking america mi...</td>\n",
       "    </tr>\n",
       "  </tbody>\n",
       "</table>\n",
       "<p>20000 rows × 7 columns</p>\n",
       "</div>"
      ],
      "text/plain": [
       "            category                                           headline  \\\n",
       "0             SPORTS  Ferguson, the Murder of Michael Brown, and the...   \n",
       "1             SPORTS       Kings Lose to Raptors, Without Cousins Again   \n",
       "2      ENTERTAINMENT  Beyoncé And Jay-Z Enjoy A Kid-Free Evening At ...   \n",
       "3      ENTERTAINMENT  Exclusive: Lawyer Of Woman Who Says Brett Ratn...   \n",
       "4       FOOD & DRINK  Pavlova Recipes: Gorgeous Meringue Desserts We...   \n",
       "...              ...                                                ...   \n",
       "19995       POLITICS  Jeff Sessions Reportedly Revives Probe Of Uran...   \n",
       "19996   FOOD & DRINK  The Best Cheese Stores in the World: Venissimo...   \n",
       "19997       BUSINESS  8 Powerful Habits Of Profoundly Influential Pe...   \n",
       "19998  ENTERTAINMENT  John Mollo, 'Star Wars' Costume Designer, Dead...   \n",
       "19999       POLITICS  Obama: I'm Tired Of People 'Trash Talking Amer...   \n",
       "\n",
       "                                       short_description  \\\n",
       "0      Some folks say baseball has nothing to do with...   \n",
       "1      The best thing about \"hot\" teams is that they ...   \n",
       "2      Bey even caught a performance of \"Dear Evan Ha...   \n",
       "3      “It’s hardly a surprise that they picked one w...   \n",
       "4      Warning: these images will make you extremely ...   \n",
       "...                                                  ...   \n",
       "19995  An FBI investigation into Hillary Clinton's ti...   \n",
       "19996    Did you say cheese? We're not talking Velveeta.   \n",
       "19997  Influential people have a profound impact on e...   \n",
       "19998  The Oscar winner, who designed the looks of \"S...   \n",
       "19999                   Are you listening, Donald Trump?   \n",
       "\n",
       "                 headline and short_description combined  \\\n",
       "0      Ferguson, the Murder of Michael Brown, and the...   \n",
       "1      Kings Lose to Raptors, Without Cousins AgainTh...   \n",
       "2      Beyoncé And Jay-Z Enjoy A Kid-Free Evening At ...   \n",
       "3      Exclusive: Lawyer Of Woman Who Says Brett Ratn...   \n",
       "4      Pavlova Recipes: Gorgeous Meringue Desserts We...   \n",
       "...                                                  ...   \n",
       "19995  Jeff Sessions Reportedly Revives Probe Of Uran...   \n",
       "19996  The Best Cheese Stores in the World: Venissimo...   \n",
       "19997  8 Powerful Habits Of Profoundly Influential Pe...   \n",
       "19998  John Mollo, 'Star Wars' Costume Designer, Dead...   \n",
       "19999  Obama: I'm Tired Of People 'Trash Talking Amer...   \n",
       "\n",
       "                                        headline_cleaned  \\\n",
       "0        ferguson murder michael brown st louis cardinal   \n",
       "1                        king lose raptor without cousin   \n",
       "2      beyoncé jayz enjoy kidfree evening rihannas di...   \n",
       "3      exclusive lawyer woman say brett ratner raped ...   \n",
       "4      pavlova recipe gorgeous meringue dessert cant ...   \n",
       "...                                                  ...   \n",
       "19995  jeff session reportedly revives probe uranium ...   \n",
       "19996  best cheese store world venissimo murray new york   \n",
       "19997     8 powerful habit profoundly influential people   \n",
       "19998       john mollo star war costume designer dead 86   \n",
       "19999  obama im tired people trash talking america mi...   \n",
       "\n",
       "                               short_description_cleaned  \\\n",
       "0      folk say baseball nothing race relation st lou...   \n",
       "1      best thing hot team eventually cool unfortunat...   \n",
       "2      bey even caught performance dear evan hansen gala   \n",
       "3      hardly surprise picked one woman victimize eff...   \n",
       "4                    warning image make extremely hungry   \n",
       "...                                                  ...   \n",
       "19995  fbi investigation hillary clinton tie deal fou...   \n",
       "19996                        say cheese talking velveeta   \n",
       "19997  influential people profound impact everyone en...   \n",
       "19998  oscar winner designed look star war empire str...   \n",
       "19999                             listening donald trump   \n",
       "\n",
       "         headline_and_short_description_combined_cleaned  \n",
       "0      ferguson murder michael brown st louis cardina...  \n",
       "1      king lose raptor without cousin againthe best ...  \n",
       "2      beyoncé jayz enjoy kidfree evening rihannas di...  \n",
       "3      exclusive lawyer woman say brett ratner raped ...  \n",
       "4      pavlova recipe gorgeous meringue dessert cant ...  \n",
       "...                                                  ...  \n",
       "19995  jeff session reportedly revives probe uranium ...  \n",
       "19996  best cheese store world venissimo murray new y...  \n",
       "19997  8 powerful habit profoundly influential people...  \n",
       "19998  john mollo star war costume designer dead 86th...  \n",
       "19999  obama im tired people trash talking america mi...  \n",
       "\n",
       "[20000 rows x 7 columns]"
      ]
     },
     "execution_count": 18,
     "metadata": {},
     "output_type": "execute_result"
    }
   ],
   "source": [
    "new_df = new_df.sample(frac=1).reset_index(drop=True)\n",
    "new_df"
   ]
  },
  {
   "cell_type": "code",
   "execution_count": 19,
   "id": "fcb83a0f",
   "metadata": {},
   "outputs": [],
   "source": [
    "new_df = new_df.drop(['headline', 'short_description', 'headline and short_description combined'], axis=1)"
   ]
  },
  {
   "cell_type": "markdown",
   "id": "8ab3517e",
   "metadata": {},
   "source": [
    "### Label Encoding\n",
    "business - 0; entertainment - 1; food and drink - 2; politics - 3; sports - 4"
   ]
  },
  {
   "cell_type": "code",
   "execution_count": 20,
   "id": "053373d7",
   "metadata": {},
   "outputs": [],
   "source": [
    "label_encoder = preprocessing.LabelEncoder()\n",
    "new_df['category'] = label_encoder.fit_transform(new_df['category'])"
   ]
  },
  {
   "cell_type": "code",
   "execution_count": 21,
   "id": "519e960b",
   "metadata": {},
   "outputs": [
    {
     "data": {
      "text/html": [
       "<div>\n",
       "<style scoped>\n",
       "    .dataframe tbody tr th:only-of-type {\n",
       "        vertical-align: middle;\n",
       "    }\n",
       "\n",
       "    .dataframe tbody tr th {\n",
       "        vertical-align: top;\n",
       "    }\n",
       "\n",
       "    .dataframe thead th {\n",
       "        text-align: right;\n",
       "    }\n",
       "</style>\n",
       "<table border=\"1\" class=\"dataframe\">\n",
       "  <thead>\n",
       "    <tr style=\"text-align: right;\">\n",
       "      <th></th>\n",
       "      <th>category</th>\n",
       "      <th>headline_cleaned</th>\n",
       "      <th>short_description_cleaned</th>\n",
       "      <th>headline_and_short_description_combined_cleaned</th>\n",
       "    </tr>\n",
       "  </thead>\n",
       "  <tbody>\n",
       "    <tr>\n",
       "      <th>0</th>\n",
       "      <td>4</td>\n",
       "      <td>ferguson murder michael brown st louis cardinal</td>\n",
       "      <td>folk say baseball nothing race relation st lou...</td>\n",
       "      <td>ferguson murder michael brown st louis cardina...</td>\n",
       "    </tr>\n",
       "    <tr>\n",
       "      <th>1</th>\n",
       "      <td>4</td>\n",
       "      <td>king lose raptor without cousin</td>\n",
       "      <td>best thing hot team eventually cool unfortunat...</td>\n",
       "      <td>king lose raptor without cousin againthe best ...</td>\n",
       "    </tr>\n",
       "    <tr>\n",
       "      <th>2</th>\n",
       "      <td>1</td>\n",
       "      <td>beyoncé jayz enjoy kidfree evening rihannas di...</td>\n",
       "      <td>bey even caught performance dear evan hansen gala</td>\n",
       "      <td>beyoncé jayz enjoy kidfree evening rihannas di...</td>\n",
       "    </tr>\n",
       "    <tr>\n",
       "      <th>3</th>\n",
       "      <td>1</td>\n",
       "      <td>exclusive lawyer woman say brett ratner raped ...</td>\n",
       "      <td>hardly surprise picked one woman victimize eff...</td>\n",
       "      <td>exclusive lawyer woman say brett ratner raped ...</td>\n",
       "    </tr>\n",
       "    <tr>\n",
       "      <th>4</th>\n",
       "      <td>2</td>\n",
       "      <td>pavlova recipe gorgeous meringue dessert cant ...</td>\n",
       "      <td>warning image make extremely hungry</td>\n",
       "      <td>pavlova recipe gorgeous meringue dessert cant ...</td>\n",
       "    </tr>\n",
       "    <tr>\n",
       "      <th>...</th>\n",
       "      <td>...</td>\n",
       "      <td>...</td>\n",
       "      <td>...</td>\n",
       "      <td>...</td>\n",
       "    </tr>\n",
       "    <tr>\n",
       "      <th>19995</th>\n",
       "      <td>3</td>\n",
       "      <td>jeff session reportedly revives probe uranium ...</td>\n",
       "      <td>fbi investigation hillary clinton tie deal fou...</td>\n",
       "      <td>jeff session reportedly revives probe uranium ...</td>\n",
       "    </tr>\n",
       "    <tr>\n",
       "      <th>19996</th>\n",
       "      <td>2</td>\n",
       "      <td>best cheese store world venissimo murray new york</td>\n",
       "      <td>say cheese talking velveeta</td>\n",
       "      <td>best cheese store world venissimo murray new y...</td>\n",
       "    </tr>\n",
       "    <tr>\n",
       "      <th>19997</th>\n",
       "      <td>0</td>\n",
       "      <td>8 powerful habit profoundly influential people</td>\n",
       "      <td>influential people profound impact everyone en...</td>\n",
       "      <td>8 powerful habit profoundly influential people...</td>\n",
       "    </tr>\n",
       "    <tr>\n",
       "      <th>19998</th>\n",
       "      <td>1</td>\n",
       "      <td>john mollo star war costume designer dead 86</td>\n",
       "      <td>oscar winner designed look star war empire str...</td>\n",
       "      <td>john mollo star war costume designer dead 86th...</td>\n",
       "    </tr>\n",
       "    <tr>\n",
       "      <th>19999</th>\n",
       "      <td>3</td>\n",
       "      <td>obama im tired people trash talking america mi...</td>\n",
       "      <td>listening donald trump</td>\n",
       "      <td>obama im tired people trash talking america mi...</td>\n",
       "    </tr>\n",
       "  </tbody>\n",
       "</table>\n",
       "<p>20000 rows × 4 columns</p>\n",
       "</div>"
      ],
      "text/plain": [
       "       category                                   headline_cleaned  \\\n",
       "0             4    ferguson murder michael brown st louis cardinal   \n",
       "1             4                    king lose raptor without cousin   \n",
       "2             1  beyoncé jayz enjoy kidfree evening rihannas di...   \n",
       "3             1  exclusive lawyer woman say brett ratner raped ...   \n",
       "4             2  pavlova recipe gorgeous meringue dessert cant ...   \n",
       "...         ...                                                ...   \n",
       "19995         3  jeff session reportedly revives probe uranium ...   \n",
       "19996         2  best cheese store world venissimo murray new york   \n",
       "19997         0     8 powerful habit profoundly influential people   \n",
       "19998         1       john mollo star war costume designer dead 86   \n",
       "19999         3  obama im tired people trash talking america mi...   \n",
       "\n",
       "                               short_description_cleaned  \\\n",
       "0      folk say baseball nothing race relation st lou...   \n",
       "1      best thing hot team eventually cool unfortunat...   \n",
       "2      bey even caught performance dear evan hansen gala   \n",
       "3      hardly surprise picked one woman victimize eff...   \n",
       "4                    warning image make extremely hungry   \n",
       "...                                                  ...   \n",
       "19995  fbi investigation hillary clinton tie deal fou...   \n",
       "19996                        say cheese talking velveeta   \n",
       "19997  influential people profound impact everyone en...   \n",
       "19998  oscar winner designed look star war empire str...   \n",
       "19999                             listening donald trump   \n",
       "\n",
       "         headline_and_short_description_combined_cleaned  \n",
       "0      ferguson murder michael brown st louis cardina...  \n",
       "1      king lose raptor without cousin againthe best ...  \n",
       "2      beyoncé jayz enjoy kidfree evening rihannas di...  \n",
       "3      exclusive lawyer woman say brett ratner raped ...  \n",
       "4      pavlova recipe gorgeous meringue dessert cant ...  \n",
       "...                                                  ...  \n",
       "19995  jeff session reportedly revives probe uranium ...  \n",
       "19996  best cheese store world venissimo murray new y...  \n",
       "19997  8 powerful habit profoundly influential people...  \n",
       "19998  john mollo star war costume designer dead 86th...  \n",
       "19999  obama im tired people trash talking america mi...  \n",
       "\n",
       "[20000 rows x 4 columns]"
      ]
     },
     "execution_count": 21,
     "metadata": {},
     "output_type": "execute_result"
    }
   ],
   "source": [
    "new_df"
   ]
  },
  {
   "cell_type": "markdown",
   "id": "85821775",
   "metadata": {},
   "source": [
    "## Train and test split"
   ]
  },
  {
   "cell_type": "code",
   "execution_count": 22,
   "id": "94bef8af",
   "metadata": {},
   "outputs": [],
   "source": [
    "Y = new_df['category']\n",
    "new_df = new_df.drop(['category'], axis=1)\n",
    "X = new_df"
   ]
  },
  {
   "cell_type": "code",
   "execution_count": 23,
   "id": "944ed880",
   "metadata": {},
   "outputs": [],
   "source": [
    "X_train, X_test, y_train, y_test = train_test_split(X, Y, test_size = 0.1, random_state = 100)"
   ]
  },
  {
   "cell_type": "code",
   "execution_count": 24,
   "id": "c90eb970",
   "metadata": {},
   "outputs": [
    {
     "data": {
      "text/html": [
       "<div>\n",
       "<style scoped>\n",
       "    .dataframe tbody tr th:only-of-type {\n",
       "        vertical-align: middle;\n",
       "    }\n",
       "\n",
       "    .dataframe tbody tr th {\n",
       "        vertical-align: top;\n",
       "    }\n",
       "\n",
       "    .dataframe thead th {\n",
       "        text-align: right;\n",
       "    }\n",
       "</style>\n",
       "<table border=\"1\" class=\"dataframe\">\n",
       "  <thead>\n",
       "    <tr style=\"text-align: right;\">\n",
       "      <th></th>\n",
       "      <th>headline_cleaned</th>\n",
       "      <th>short_description_cleaned</th>\n",
       "      <th>headline_and_short_description_combined_cleaned</th>\n",
       "    </tr>\n",
       "  </thead>\n",
       "  <tbody>\n",
       "    <tr>\n",
       "      <th>3906</th>\n",
       "      <td>herrick turkish practice group strike note foo...</td>\n",
       "      <td>first authorization statute expired 2003 since...</td>\n",
       "      <td>herrick turkish practice group strike note foo...</td>\n",
       "    </tr>\n",
       "    <tr>\n",
       "      <th>18164</th>\n",
       "      <td>chevron avoid paying cleanup cost hiding behin...</td>\n",
       "      <td>everybody know bury bad news story putting lat...</td>\n",
       "      <td>chevron avoid paying cleanup cost hiding behin...</td>\n",
       "    </tr>\n",
       "    <tr>\n",
       "      <th>3829</th>\n",
       "      <td>virginia became first state regulate draftking...</td>\n",
       "      <td>new rule provide least oversight scandalplague...</td>\n",
       "      <td>virginia became first state regulate draftking...</td>\n",
       "    </tr>\n",
       "    <tr>\n",
       "      <th>14589</th>\n",
       "      <td>super bowl xlviii halftime show include perfor...</td>\n",
       "      <td>bruno mar confirmed major rumor sunday afterno...</td>\n",
       "      <td>super bowl xlviii halftime show include perfor...</td>\n",
       "    </tr>\n",
       "    <tr>\n",
       "      <th>391</th>\n",
       "      <td>elizabeth warren cant stop wont stop laying do...</td>\n",
       "      <td>every day there another piece evidence expose ...</td>\n",
       "      <td>elizabeth warren cant stop wont stop laying do...</td>\n",
       "    </tr>\n",
       "    <tr>\n",
       "      <th>...</th>\n",
       "      <td>...</td>\n",
       "      <td>...</td>\n",
       "      <td>...</td>\n",
       "    </tr>\n",
       "    <tr>\n",
       "      <th>16304</th>\n",
       "      <td>longmire ready netflix revival exclusive seaso...</td>\n",
       "      <td>new episode premiere sept 10</td>\n",
       "      <td>longmire ready netflix revival exclusive seaso...</td>\n",
       "    </tr>\n",
       "    <tr>\n",
       "      <th>79</th>\n",
       "      <td>mcdonalds give menu fancy makeover photo</td>\n",
       "      <td>mcdonalds like youve never seen</td>\n",
       "      <td>mcdonalds give menu fancy makeover photosmcdon...</td>\n",
       "    </tr>\n",
       "    <tr>\n",
       "      <th>12119</th>\n",
       "      <td>let forget donald trump would total disaster c...</td>\n",
       "      <td>would say total expensive hoax</td>\n",
       "      <td>let forget donald trump would total disaster c...</td>\n",
       "    </tr>\n",
       "    <tr>\n",
       "      <th>14147</th>\n",
       "      <td>pizza pancake plain chicken breakfast dinner r...</td>\n",
       "      <td>request future iteration cheese</td>\n",
       "      <td>pizza pancake plain chicken breakfast dinner r...</td>\n",
       "    </tr>\n",
       "    <tr>\n",
       "      <th>5640</th>\n",
       "      <td>business incubator help hatch startup</td>\n",
       "      <td>accelerator generally accept startup slightly ...</td>\n",
       "      <td>business incubator help hatch startupaccelerat...</td>\n",
       "    </tr>\n",
       "  </tbody>\n",
       "</table>\n",
       "<p>18000 rows × 3 columns</p>\n",
       "</div>"
      ],
      "text/plain": [
       "                                        headline_cleaned  \\\n",
       "3906   herrick turkish practice group strike note foo...   \n",
       "18164  chevron avoid paying cleanup cost hiding behin...   \n",
       "3829   virginia became first state regulate draftking...   \n",
       "14589  super bowl xlviii halftime show include perfor...   \n",
       "391    elizabeth warren cant stop wont stop laying do...   \n",
       "...                                                  ...   \n",
       "16304  longmire ready netflix revival exclusive seaso...   \n",
       "79              mcdonalds give menu fancy makeover photo   \n",
       "12119  let forget donald trump would total disaster c...   \n",
       "14147  pizza pancake plain chicken breakfast dinner r...   \n",
       "5640               business incubator help hatch startup   \n",
       "\n",
       "                               short_description_cleaned  \\\n",
       "3906   first authorization statute expired 2003 since...   \n",
       "18164  everybody know bury bad news story putting lat...   \n",
       "3829   new rule provide least oversight scandalplague...   \n",
       "14589  bruno mar confirmed major rumor sunday afterno...   \n",
       "391    every day there another piece evidence expose ...   \n",
       "...                                                  ...   \n",
       "16304                       new episode premiere sept 10   \n",
       "79                       mcdonalds like youve never seen   \n",
       "12119                     would say total expensive hoax   \n",
       "14147                    request future iteration cheese   \n",
       "5640   accelerator generally accept startup slightly ...   \n",
       "\n",
       "         headline_and_short_description_combined_cleaned  \n",
       "3906   herrick turkish practice group strike note foo...  \n",
       "18164  chevron avoid paying cleanup cost hiding behin...  \n",
       "3829   virginia became first state regulate draftking...  \n",
       "14589  super bowl xlviii halftime show include perfor...  \n",
       "391    elizabeth warren cant stop wont stop laying do...  \n",
       "...                                                  ...  \n",
       "16304  longmire ready netflix revival exclusive seaso...  \n",
       "79     mcdonalds give menu fancy makeover photosmcdon...  \n",
       "12119  let forget donald trump would total disaster c...  \n",
       "14147  pizza pancake plain chicken breakfast dinner r...  \n",
       "5640   business incubator help hatch startupaccelerat...  \n",
       "\n",
       "[18000 rows x 3 columns]"
      ]
     },
     "execution_count": 24,
     "metadata": {},
     "output_type": "execute_result"
    }
   ],
   "source": [
    "X_train"
   ]
  },
  {
   "cell_type": "code",
   "execution_count": 25,
   "id": "a5bdf67a",
   "metadata": {},
   "outputs": [],
   "source": [
    "y_train = y_train.to_frame()\n",
    "y_test = y_test.to_frame()"
   ]
  },
  {
   "cell_type": "markdown",
   "id": "17d4679d",
   "metadata": {},
   "source": [
    "## Tf-Idf  "
   ]
  },
  {
   "cell_type": "code",
   "execution_count": 26,
   "id": "fc86dea0",
   "metadata": {},
   "outputs": [],
   "source": [
    "docs = [\"the house had a tiny little mouse\", \n",
    "\"the cat saw the mouse\", \n",
    "\"the mouse ran away from the house\", \n",
    "\"the cat finally ate the mouse\", \n",
    "\"the end of the mouse story\"\n",
    "]"
   ]
  },
  {
   "cell_type": "code",
   "execution_count": 27,
   "id": "27f72533",
   "metadata": {},
   "outputs": [],
   "source": [
    "tfidf_vectorizer = TfidfVectorizer(use_idf=True)\n",
    "fitted_vectorizer = tfidf_vectorizer.fit(docs)\n",
    "tfidf_vectorizer_vectors = fitted_vectorizer.transform(docs)"
   ]
  },
  {
   "cell_type": "code",
   "execution_count": 28,
   "id": "1286e922",
   "metadata": {},
   "outputs": [
    {
     "data": {
      "text/html": [
       "<div>\n",
       "<style scoped>\n",
       "    .dataframe tbody tr th:only-of-type {\n",
       "        vertical-align: middle;\n",
       "    }\n",
       "\n",
       "    .dataframe tbody tr th {\n",
       "        vertical-align: top;\n",
       "    }\n",
       "\n",
       "    .dataframe thead th {\n",
       "        text-align: right;\n",
       "    }\n",
       "</style>\n",
       "<table border=\"1\" class=\"dataframe\">\n",
       "  <thead>\n",
       "    <tr style=\"text-align: right;\">\n",
       "      <th></th>\n",
       "      <th>tfidf</th>\n",
       "    </tr>\n",
       "  </thead>\n",
       "  <tbody>\n",
       "    <tr>\n",
       "      <th>ate</th>\n",
       "      <td>0.000000</td>\n",
       "    </tr>\n",
       "    <tr>\n",
       "      <th>away</th>\n",
       "      <td>0.000000</td>\n",
       "    </tr>\n",
       "    <tr>\n",
       "      <th>cat</th>\n",
       "      <td>0.000000</td>\n",
       "    </tr>\n",
       "    <tr>\n",
       "      <th>end</th>\n",
       "      <td>0.000000</td>\n",
       "    </tr>\n",
       "    <tr>\n",
       "      <th>finally</th>\n",
       "      <td>0.000000</td>\n",
       "    </tr>\n",
       "    <tr>\n",
       "      <th>from</th>\n",
       "      <td>0.000000</td>\n",
       "    </tr>\n",
       "    <tr>\n",
       "      <th>had</th>\n",
       "      <td>0.493562</td>\n",
       "    </tr>\n",
       "    <tr>\n",
       "      <th>house</th>\n",
       "      <td>0.398203</td>\n",
       "    </tr>\n",
       "    <tr>\n",
       "      <th>little</th>\n",
       "      <td>0.493562</td>\n",
       "    </tr>\n",
       "    <tr>\n",
       "      <th>mouse</th>\n",
       "      <td>0.235185</td>\n",
       "    </tr>\n",
       "    <tr>\n",
       "      <th>of</th>\n",
       "      <td>0.000000</td>\n",
       "    </tr>\n",
       "    <tr>\n",
       "      <th>ran</th>\n",
       "      <td>0.000000</td>\n",
       "    </tr>\n",
       "    <tr>\n",
       "      <th>saw</th>\n",
       "      <td>0.000000</td>\n",
       "    </tr>\n",
       "    <tr>\n",
       "      <th>story</th>\n",
       "      <td>0.000000</td>\n",
       "    </tr>\n",
       "    <tr>\n",
       "      <th>the</th>\n",
       "      <td>0.235185</td>\n",
       "    </tr>\n",
       "    <tr>\n",
       "      <th>tiny</th>\n",
       "      <td>0.493562</td>\n",
       "    </tr>\n",
       "  </tbody>\n",
       "</table>\n",
       "</div>"
      ],
      "text/plain": [
       "            tfidf\n",
       "ate      0.000000\n",
       "away     0.000000\n",
       "cat      0.000000\n",
       "end      0.000000\n",
       "finally  0.000000\n",
       "from     0.000000\n",
       "had      0.493562\n",
       "house    0.398203\n",
       "little   0.493562\n",
       "mouse    0.235185\n",
       "of       0.000000\n",
       "ran      0.000000\n",
       "saw      0.000000\n",
       "story    0.000000\n",
       "the      0.235185\n",
       "tiny     0.493562"
      ]
     },
     "execution_count": 28,
     "metadata": {},
     "output_type": "execute_result"
    }
   ],
   "source": [
    "first_vector_tfidfvectorizer = tfidf_vectorizer_vectors[0] \n",
    "first_vector_tfidfvectorizer_score = pd.DataFrame(first_vector_tfidfvectorizer.T.todense(), index=tfidf_vectorizer.get_feature_names(), columns=[\"tfidf\"]) \n",
    "first_vector_tfidfvectorizer_score.sort_values(by=[\"tfidf\"], ascending=False)\n",
    "first_vector_tfidfvectorizer_score"
   ]
  },
  {
   "cell_type": "markdown",
   "id": "03cb114a",
   "metadata": {},
   "source": [
    "## Tf-Idf with Logistic Regression"
   ]
  },
  {
   "cell_type": "code",
   "execution_count": 29,
   "id": "cbb30255",
   "metadata": {},
   "outputs": [],
   "source": [
    "logit = LogisticRegression(C = 5e1, solver='lbfgs', multi_class='multinomial', penalty = 'l2', max_iter = 150)"
   ]
  },
  {
   "cell_type": "code",
   "execution_count": 30,
   "id": "dd7e75b2",
   "metadata": {},
   "outputs": [],
   "source": [
    "text_transformer = TfidfVectorizer(ngram_range=(1, 2), max_features = 150000)\n",
    "X_train_text = text_transformer.fit_transform(X_train['headline_and_short_description_combined_cleaned'])\n",
    "X_test_text = text_transformer.transform(X_test['headline_and_short_description_combined_cleaned'])"
   ]
  },
  {
   "cell_type": "code",
   "execution_count": 31,
   "id": "556248f6",
   "metadata": {},
   "outputs": [
    {
     "name": "stdout",
     "output_type": "stream",
     "text": [
      "Testing accuracy:  0.868\n"
     ]
    }
   ],
   "source": [
    "logistic_model_with_tfidf = logit.fit(X_train_text, y_train['category'])\n",
    "test_score = logistic_model_with_tfidf.score(X_test_text, y_test['category'])\n",
    "print('Testing accuracy: ', test_score)"
   ]
  },
  {
   "cell_type": "markdown",
   "id": "94e4793f",
   "metadata": {},
   "source": [
    "### Stratified K-fold validation"
   ]
  },
  {
   "cell_type": "code",
   "execution_count": 32,
   "id": "0651b0fa",
   "metadata": {},
   "outputs": [
    {
     "data": {
      "text/plain": [
       "(array([0.86694444, 0.86333333, 0.85305556, 0.85861111, 0.86888889]),\n",
       " 0.8621666666666667)"
      ]
     },
     "execution_count": 32,
     "metadata": {},
     "output_type": "execute_result"
    }
   ],
   "source": [
    "skf = StratifiedKFold(n_splits=5, shuffle=True, random_state=17)\n",
    "cv_results = cross_val_score(logit, X_train_text, y_train['category'], cv=skf, scoring='f1_micro')\n",
    "cv_results, cv_results.mean()"
   ]
  },
  {
   "cell_type": "code",
   "execution_count": 33,
   "id": "40507564",
   "metadata": {},
   "outputs": [
    {
     "data": {
      "image/png": "[encoded data removed]",
      "text/plain": [
       "<Figure size 432x288 with 1 Axes>"
      ]
     },
     "metadata": {
      "needs_background": "light"
     },
     "output_type": "display_data"
    }
   ],
   "source": [
    "index = [1, 2, 3, 4, 5]\n",
    "plt.plot(index, cv_results)\n",
    "plt.title('Stratified 5 Fold Accuracy')\n",
    "plt.xlabel('K-Fold')\n",
    "plt.ylabel('Val accuracy')\n",
    "plt.show()"
   ]
  },
  {
   "cell_type": "markdown",
   "id": "0eb0e0a0",
   "metadata": {},
   "source": [
    "## Predictions"
   ]
  },
  {
   "cell_type": "code",
   "execution_count": 34,
   "id": "6d6d2778",
   "metadata": {},
   "outputs": [],
   "source": [
    "def get_top_k_predictions(X_test_text, k):\n",
    "    \n",
    "    # get probabilities instead of predicted labels, since we want to collect top 3\n",
    "    probs = logistic_model_with_tfidf.predict_proba(X_test_text)\n",
    "\n",
    "    # GET TOP K PREDICTIONS BY PROB - note these are just index\n",
    "    best_3 = np.argsort(probs, axis=1)[:,-k:]\n",
    "    \n",
    "    # GET CATEGORY OF PREDICTIONS\n",
    "    preds=[[logistic_model_with_tfidf.classes_[predicted_category] for predicted_category in prediction] for prediction in best_3]   \n",
    "    preds =[ item[::-1] for item in preds]\n",
    "    \n",
    "    return preds"
   ]
  },
  {
   "cell_type": "code",
   "execution_count": 35,
   "id": "27d82ef2",
   "metadata": {},
   "outputs": [],
   "source": [
    "predicted_results = get_top_k_predictions(X_test_text, 3)\n",
    "\n",
    "count = 0\n",
    "y_predicted = []\n",
    "y_test_array = y_test['category'].to_numpy()\n",
    "for i in range(len(y_test_array)):\n",
    "    if y_test_array[i] == predicted_results[i][0]:\n",
    "        count += 1\n",
    "    y_predicted.append(predicted_results[i][0])\n"
   ]
  },
  {
   "cell_type": "code",
   "execution_count": 36,
   "id": "b7d49251",
   "metadata": {},
   "outputs": [
    {
     "name": "stdout",
     "output_type": "stream",
     "text": [
      "        headline_and_short_description_combined_cleaned\n",
      "2535  chris brown drake dis singer release dont like...\n"
     ]
    },
    {
     "data": {
      "text/plain": [
       "[4, 1, 0]"
      ]
     },
     "execution_count": 36,
     "metadata": {},
     "output_type": "execute_result"
    }
   ],
   "source": [
    "print(X_test.iloc[20:21,2:3])\n",
    "predicted_results[3]"
   ]
  },
  {
   "cell_type": "markdown",
   "id": "cb165390",
   "metadata": {},
   "source": [
    "## Evaluation Metrics"
   ]
  },
  {
   "cell_type": "markdown",
   "id": "d9cb5f4f",
   "metadata": {},
   "source": [
    "### Confusion Matrix"
   ]
  },
  {
   "cell_type": "code",
   "execution_count": 37,
   "id": "0962ba1f",
   "metadata": {},
   "outputs": [
    {
     "data": {
      "text/plain": [
       "Text(0.5, 0, 'Predicted label')"
      ]
     },
     "execution_count": 37,
     "metadata": {},
     "output_type": "execute_result"
    },
    {
     "data": {
      "image/png": "[encoded data removed]",
      "text/plain": [
       "<Figure size 432x288 with 2 Axes>"
      ]
     },
     "metadata": {
      "needs_background": "light"
     },
     "output_type": "display_data"
    }
   ],
   "source": [
    "confusion_mtx = confusion_matrix(y_test_array, y_predicted) \n",
    "classes = ['Business', 'Entertainment', 'Food and Drink', 'Politics', 'Sports']\n",
    "plt.imshow(confusion_mtx, interpolation='nearest')\n",
    "plt.title('Confusion Matrix')\n",
    "plt.colorbar()\n",
    "tick_marks = np.arange(len(classes))\n",
    "plt.xticks(tick_marks, classes, rotation=90)\n",
    "plt.yticks(tick_marks, classes)\n",
    "\n",
    "thresh = confusion_mtx.max() / 2.\n",
    "for i, j in itertools.product(range(confusion_mtx.shape[0]), range(confusion_mtx.shape[1])):\n",
    "    plt.text(j, i, confusion_mtx[i, j], horizontalalignment=\"center\", color=\"white\" if confusion_mtx[i, j] > thresh else \"black\")\n",
    "\n",
    "plt.ylabel('True label')\n",
    "plt.xlabel('Predicted label')"
   ]
  },
  {
   "cell_type": "markdown",
   "id": "5c8708a2",
   "metadata": {},
   "source": [
    "### Classification Report"
   ]
  },
  {
   "cell_type": "code",
   "execution_count": 38,
   "id": "480543c9",
   "metadata": {},
   "outputs": [
    {
     "name": "stdout",
     "output_type": "stream",
     "text": [
      "              precision    recall  f1-score   support\n",
      "\n",
      "           0       0.84      0.82      0.83       415\n",
      "           1       0.88      0.84      0.86       424\n",
      "           2       0.91      0.93      0.92       384\n",
      "           3       0.82      0.85      0.84       372\n",
      "           4       0.89      0.90      0.90       405\n",
      "\n",
      "    accuracy                           0.87      2000\n",
      "   macro avg       0.87      0.87      0.87      2000\n",
      "weighted avg       0.87      0.87      0.87      2000\n",
      "\n"
     ]
    }
   ],
   "source": [
    "report = classification_report(y_test_array, y_predicted, target_names=['0','1', '2', '3', '4'])\n",
    "print(report)"
   ]
  },
  {
   "cell_type": "markdown",
   "id": "5c16883f",
   "metadata": {},
   "source": [
    "## Tf-Idf with CNN"
   ]
  },
  {
   "cell_type": "code",
   "execution_count": 39,
   "id": "3471bbbf",
   "metadata": {},
   "outputs": [
    {
     "name": "stdout",
     "output_type": "stream",
     "text": [
      "Model: \"sequential\"\n",
      "_________________________________________________________________\n",
      "Layer (type)                 Output Shape              Param #   \n",
      "=================================================================\n",
      "dense (Dense)                (None, 256)               3840256   \n",
      "_________________________________________________________________\n",
      "dropout (Dropout)            (None, 256)               0         \n",
      "_________________________________________________________________\n",
      "batch_normalization (BatchNo (None, 256)               1024      \n",
      "_________________________________________________________________\n",
      "dense_1 (Dense)              (None, 200)               51400     \n",
      "_________________________________________________________________\n",
      "dropout_1 (Dropout)          (None, 200)               0         \n",
      "_________________________________________________________________\n",
      "dense_2 (Dense)              (None, 160)               32160     \n",
      "_________________________________________________________________\n",
      "dropout_2 (Dropout)          (None, 160)               0         \n",
      "_________________________________________________________________\n",
      "batch_normalization_1 (Batch (None, 160)               640       \n",
      "_________________________________________________________________\n",
      "dense_3 (Dense)              (None, 120)               19320     \n",
      "_________________________________________________________________\n",
      "dropout_3 (Dropout)          (None, 120)               0         \n",
      "_________________________________________________________________\n",
      "dense_4 (Dense)              (None, 80)                9680      \n",
      "_________________________________________________________________\n",
      "dropout_4 (Dropout)          (None, 80)                0         \n",
      "_________________________________________________________________\n",
      "dense_5 (Dense)              (None, 5)                 405       \n",
      "=================================================================\n",
      "Total params: 3,954,885\n",
      "Trainable params: 3,954,053\n",
      "Non-trainable params: 832\n",
      "_________________________________________________________________\n"
     ]
    }
   ],
   "source": [
    "model = Sequential()\n",
    "model.add(Dense(256, input_dim=15000, activation='relu', kernel_regularizer=regularizers.l2(0.01)))\n",
    "model.add(Dropout(0.3))\n",
    "model.add(BatchNormalization())\n",
    "\n",
    "model.add(Dense(200, activation='relu'))\n",
    "model.add(Dropout(0.5))\n",
    "\n",
    "model.add(Dense(160, activation='relu'))\n",
    "model.add(Dropout(0.5))\n",
    "model.add(BatchNormalization())\n",
    "\n",
    "model.add(Dense(120, activation='relu', kernel_regularizer=regularizers.l2(0.01)))\n",
    "model.add(Dropout(0.5))\n",
    "\n",
    "model.add(Dense(80, activation='relu'))\n",
    "model.add(Dropout(0.3))\n",
    "\n",
    "model.add(Dense(5, activation='softmax'))\n",
    "model.compile(loss='categorical_crossentropy', optimizer='adam', metrics=['accuracy'])\n",
    "model.summary()"
   ]
  },
  {
   "cell_type": "markdown",
   "id": "8819ca88",
   "metadata": {},
   "source": [
    "### One hot encoding and validation split"
   ]
  },
  {
   "cell_type": "code",
   "execution_count": 40,
   "id": "9d3021a0",
   "metadata": {},
   "outputs": [],
   "source": [
    "X_train, X_val, y_train, y_val = train_test_split(X_train, y_train, test_size = 0.1)"
   ]
  },
  {
   "cell_type": "code",
   "execution_count": 41,
   "id": "520c13cc",
   "metadata": {},
   "outputs": [],
   "source": [
    "y_train_onehot = to_categorical(y_train, num_classes=5)\n",
    "y_val_onehot = to_categorical(y_val, num_classes=5)\n",
    "y_test_onehot =  to_categorical(y_test, num_classes = 5)"
   ]
  },
  {
   "cell_type": "code",
   "execution_count": 42,
   "id": "83a4f51d",
   "metadata": {},
   "outputs": [
    {
     "data": {
      "text/plain": [
       "array([[0., 1., 0., 0., 0.],\n",
       "       [0., 0., 0., 1., 0.],\n",
       "       [0., 1., 0., 0., 0.],\n",
       "       ...,\n",
       "       [0., 0., 0., 1., 0.],\n",
       "       [0., 1., 0., 0., 0.],\n",
       "       [0., 0., 0., 0., 1.]], dtype=float32)"
      ]
     },
     "execution_count": 42,
     "metadata": {},
     "output_type": "execute_result"
    }
   ],
   "source": [
    "y_train_onehot"
   ]
  },
  {
   "cell_type": "markdown",
   "id": "46ed57ad",
   "metadata": {},
   "source": [
    "### Running the model"
   ]
  },
  {
   "cell_type": "code",
   "execution_count": 43,
   "id": "d719eea0",
   "metadata": {},
   "outputs": [],
   "source": [
    "text_transformer = TfidfVectorizer(ngram_range=(1, 2), max_features = 15000)\n",
    "X_train_text = text_transformer.fit_transform(X_train['headline_and_short_description_combined_cleaned']).astype('float16')\n",
    "X_test_text = text_transformer.transform(X_test['headline_and_short_description_combined_cleaned']).astype('float16')\n",
    "X_val_text = text_transformer.transform(X_val['headline_and_short_description_combined_cleaned']).astype('float16')"
   ]
  },
  {
   "cell_type": "code",
   "execution_count": 44,
   "id": "cb8716cc",
   "metadata": {},
   "outputs": [
    {
     "name": "stdout",
     "output_type": "stream",
     "text": [
      "Epoch 1/25\n",
      "203/203 [==============================] - 24s 116ms/step - loss: 4.2841 - accuracy: 0.2369 - val_loss: 3.6396 - val_accuracy: 0.2089\n",
      "Epoch 2/25\n",
      "203/203 [==============================] - 23s 114ms/step - loss: 2.7625 - accuracy: 0.6489 - val_loss: 2.2897 - val_accuracy: 0.6606\n",
      "Epoch 3/25\n",
      "203/203 [==============================] - 25s 122ms/step - loss: 1.7067 - accuracy: 0.8556 - val_loss: 1.6652 - val_accuracy: 0.8361\n",
      "Epoch 4/25\n",
      "203/203 [==============================] - 26s 127ms/step - loss: 1.4615 - accuracy: 0.8837 - val_loss: 1.6065 - val_accuracy: 0.8272\n",
      "Epoch 5/25\n",
      "203/203 [==============================] - 23s 115ms/step - loss: 1.4156 - accuracy: 0.8915 - val_loss: 1.5961 - val_accuracy: 0.8517\n",
      "Epoch 6/25\n",
      "203/203 [==============================] - 22s 107ms/step - loss: 1.4287 - accuracy: 0.9002 - val_loss: 1.6525 - val_accuracy: 0.8461\n",
      "Epoch 7/25\n",
      "203/203 [==============================] - 21s 105ms/step - loss: 1.4245 - accuracy: 0.9067 - val_loss: 1.6451 - val_accuracy: 0.8400\n",
      "Epoch 8/25\n",
      "203/203 [==============================] - 22s 107ms/step - loss: 1.3914 - accuracy: 0.9103 - val_loss: 1.6235 - val_accuracy: 0.8350\n",
      "Epoch 9/25\n",
      "203/203 [==============================] - 23s 112ms/step - loss: 1.3699 - accuracy: 0.9122 - val_loss: 1.6111 - val_accuracy: 0.8317\n",
      "Epoch 10/25\n",
      "203/203 [==============================] - 23s 115ms/step - loss: 1.3524 - accuracy: 0.9098 - val_loss: 1.6444 - val_accuracy: 0.8272\n",
      "Epoch 11/25\n",
      "203/203 [==============================] - 24s 117ms/step - loss: 1.3411 - accuracy: 0.9176 - val_loss: 1.5945 - val_accuracy: 0.8300\n",
      "Epoch 12/25\n",
      "203/203 [==============================] - 21s 104ms/step - loss: 1.3075 - accuracy: 0.9167 - val_loss: 1.5580 - val_accuracy: 0.8367\n",
      "Epoch 13/25\n",
      "203/203 [==============================] - 23s 115ms/step - loss: 1.3036 - accuracy: 0.9179 - val_loss: 1.5724 - val_accuracy: 0.8283\n",
      "Epoch 14/25\n",
      "203/203 [==============================] - 22s 110ms/step - loss: 1.2657 - accuracy: 0.9214 - val_loss: 1.5359 - val_accuracy: 0.8356\n",
      "Epoch 15/25\n",
      "203/203 [==============================] - 22s 110ms/step - loss: 1.2306 - accuracy: 0.9249 - val_loss: 1.6021 - val_accuracy: 0.8333\n",
      "Epoch 16/25\n",
      "203/203 [==============================] - 22s 111ms/step - loss: 1.2671 - accuracy: 0.9229 - val_loss: 1.5360 - val_accuracy: 0.8383\n",
      "Epoch 17/25\n",
      "203/203 [==============================] - 21s 105ms/step - loss: 1.2395 - accuracy: 0.9228 - val_loss: 1.5400 - val_accuracy: 0.8356\n",
      "Epoch 18/25\n",
      "203/203 [==============================] - 21s 104ms/step - loss: 1.1908 - accuracy: 0.9315 - val_loss: 1.4963 - val_accuracy: 0.8378\n",
      "Epoch 19/25\n",
      "203/203 [==============================] - 21s 105ms/step - loss: 1.2073 - accuracy: 0.9208 - val_loss: 1.4454 - val_accuracy: 0.8372\n",
      "Epoch 20/25\n",
      "203/203 [==============================] - 21s 103ms/step - loss: 1.1150 - accuracy: 0.9344 - val_loss: 1.4935 - val_accuracy: 0.8311\n",
      "Epoch 21/25\n",
      "203/203 [==============================] - 21s 104ms/step - loss: 1.1778 - accuracy: 0.9241 - val_loss: 1.4493 - val_accuracy: 0.8400\n",
      "Epoch 22/25\n",
      "203/203 [==============================] - 21s 105ms/step - loss: 1.1581 - accuracy: 0.9219 - val_loss: 1.4308 - val_accuracy: 0.8422\n",
      "Epoch 23/25\n",
      "203/203 [==============================] - 21s 104ms/step - loss: 1.1410 - accuracy: 0.9292 - val_loss: 1.4369 - val_accuracy: 0.8367\n",
      "Epoch 24/25\n",
      "203/203 [==============================] - 22s 109ms/step - loss: 1.1214 - accuracy: 0.9298 - val_loss: 1.4467 - val_accuracy: 0.8394\n",
      "Epoch 25/25\n",
      "203/203 [==============================] - 21s 105ms/step - loss: 1.1035 - accuracy: 0.9300 - val_loss: 1.4374 - val_accuracy: 0.8328\n"
     ]
    }
   ],
   "source": [
    "early_stopping = EarlyStopping(monitor='loss', patience=5, verbose=1)\n",
    "history = model.fit(X_train_text, y_train_onehot, validation_data = (X_val_text, y_val_onehot), batch_size = 80, epochs = 25, verbose=1, callbacks = [early_stopping])"
   ]
  },
  {
   "cell_type": "markdown",
   "id": "bd882249",
   "metadata": {},
   "source": [
    "## Plotting graphs"
   ]
  },
  {
   "cell_type": "code",
   "execution_count": 45,
   "id": "397da9e4",
   "metadata": {},
   "outputs": [
    {
     "data": {
      "image/png": "[encoded data removed]",
      "text/plain": [
       "<Figure size 1440x432 with 2 Axes>"
      ]
     },
     "metadata": {
      "needs_background": "light"
     },
     "output_type": "display_data"
    }
   ],
   "source": [
    "# Check how loss & mae went down\n",
    "epoch_loss = history.history['loss']\n",
    "epoch_val_loss = history.history['val_loss']\n",
    "epoch_acc = history.history['accuracy']\n",
    "epoch_val_acc = history.history['val_accuracy']\n",
    "\n",
    "plt.figure(figsize=(20,6))\n",
    "plt.subplot(1,2,1)\n",
    "plt.plot(range(0,len(epoch_loss)), epoch_loss, 'b-', linewidth=2, label='Train Loss')\n",
    "plt.plot(range(0,len(epoch_val_loss)), epoch_val_loss, 'r-', linewidth=2, label='Val Loss')\n",
    "plt.title('Evolution of LOSS on train & validation datasets over epochs')\n",
    "plt.legend(loc='best')\n",
    "\n",
    "plt.subplot(1,2,2)\n",
    "plt.plot(range(0,len(epoch_acc)), epoch_acc, 'b-', linewidth=2, label='Train Accuracy')\n",
    "plt.plot(range(0,len(epoch_val_acc)), epoch_val_acc, 'r-', linewidth=2,label='Val Accuracy')\n",
    "plt.title('Evolution of ACCURACY on train & validation datasets over epochs')\n",
    "plt.legend(loc='best')\n",
    "\n",
    "plt.show()"
   ]
  },
  {
   "cell_type": "code",
   "execution_count": 46,
   "id": "9ff2922b",
   "metadata": {},
   "outputs": [
    {
     "name": "stdout",
     "output_type": "stream",
     "text": [
      "63/63 [==============================] - 1s 23ms/step - loss: 1.5762 - accuracy: 0.8075\n",
      "Loss of the model: 1.5762\n",
      "Accuracy of the model: 0.8075\n"
     ]
    }
   ],
   "source": [
    "score = model.evaluate(X_test_text, y_test_onehot)\n",
    "print('Loss of the model: {:.4f}'.format(score[0]))\n",
    "print('Accuracy of the model: {:.4f}'.format(score[1]))"
   ]
  },
  {
   "cell_type": "code",
   "execution_count": 47,
   "id": "ca06041e",
   "metadata": {},
   "outputs": [],
   "source": [
    "y_pred = model.predict(X_test_text)\n",
    "y_pred_label = np.argmax(y_pred,axis = 1) \n",
    "y_true_label = np.argmax(y_test_onehot,axis = 1)"
   ]
  },
  {
   "cell_type": "markdown",
   "id": "cc28c2a4",
   "metadata": {},
   "source": [
    "## Evaluation metrics"
   ]
  },
  {
   "cell_type": "markdown",
   "id": "7ec295bb",
   "metadata": {},
   "source": [
    "### Confusion matrix"
   ]
  },
  {
   "cell_type": "code",
   "execution_count": 48,
   "id": "05d020ed",
   "metadata": {},
   "outputs": [
    {
     "data": {
      "text/plain": [
       "Text(0.5, 0, 'Predicted label')"
      ]
     },
     "execution_count": 48,
     "metadata": {},
     "output_type": "execute_result"
    },
    {
     "data": {
      "image/png": "[encoded data removed]",
      "text/plain": [
       "<Figure size 432x288 with 2 Axes>"
      ]
     },
     "metadata": {
      "needs_background": "light"
     },
     "output_type": "display_data"
    }
   ],
   "source": [
    "confusion_mtx = confusion_matrix(y_true_label, y_pred_label) \n",
    "classes = ['Business', 'Entertainment', 'Food and Drink', 'Politics', 'Sports']\n",
    "plt.imshow(confusion_mtx, interpolation='nearest')\n",
    "plt.title('Confusion Matrix')\n",
    "plt.colorbar()\n",
    "tick_marks = np.arange(len(classes))\n",
    "plt.xticks(tick_marks, classes, rotation=90)\n",
    "plt.yticks(tick_marks, classes)\n",
    "\n",
    "thresh = confusion_mtx.max() / 2.\n",
    "for i, j in itertools.product(range(confusion_mtx.shape[0]), range(confusion_mtx.shape[1])):\n",
    "    plt.text(j, i, confusion_mtx[i, j], horizontalalignment=\"center\", color=\"white\" if confusion_mtx[i, j] > thresh else \"black\")\n",
    "\n",
    "plt.ylabel('True label')\n",
    "plt.xlabel('Predicted label')"
   ]
  },
  {
   "cell_type": "markdown",
   "id": "0f1e8fe9",
   "metadata": {},
   "source": [
    "### Classification report"
   ]
  },
  {
   "cell_type": "code",
   "execution_count": 49,
   "id": "2bbf2a00",
   "metadata": {},
   "outputs": [
    {
     "name": "stdout",
     "output_type": "stream",
     "text": [
      "              precision    recall  f1-score   support\n",
      "\n",
      "           0       0.80      0.76      0.78       415\n",
      "           1       0.77      0.82      0.79       424\n",
      "           2       0.87      0.89      0.88       384\n",
      "           3       0.80      0.70      0.74       372\n",
      "           4       0.81      0.86      0.83       405\n",
      "\n",
      "    accuracy                           0.81      2000\n",
      "   macro avg       0.81      0.81      0.81      2000\n",
      "weighted avg       0.81      0.81      0.81      2000\n",
      "\n"
     ]
    }
   ],
   "source": [
    "report = classification_report(y_true_label, y_pred_label, target_names=['0','1', '2', '3', '4'])\n",
    "print(report)"
   ]
  },
  {
   "cell_type": "code",
   "execution_count": null,
   "id": "e59bcb50",
   "metadata": {},
   "outputs": [],
   "source": []
  }
 ],
 "metadata": {
  "kernelspec": {
   "display_name": "Python 3",
   "language": "python",
   "name": "python3"
  },
  "language_info": {
   "codemirror_mode": {
    "name": "ipython",
    "version": 3
   },
   "file_extension": ".py",
   "mimetype": "text/x-python",
   "name": "python",
   "nbconvert_exporter": "python",
   "pygments_lexer": "ipython3",
   "version": "3.6.4"
  }
 },
 "nbformat": 4,
 "nbformat_minor": 5
}
