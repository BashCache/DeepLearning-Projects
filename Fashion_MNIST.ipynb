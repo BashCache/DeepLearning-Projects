{
  "nbformat": 4,
  "nbformat_minor": 0,
  "metadata": {
    "colab": {
      "name": "Fashion MNIST.ipynb",
      "provenance": [],
      "collapsed_sections": []
    },
    "kernelspec": {
      "name": "python3",
      "display_name": "Python 3"
    },
    "language_info": {
      "name": "python"
    },
    "accelerator": "GPU"
  },
  "cells": [
    {
      "cell_type": "markdown",
      "metadata": {
        "id": "Et20Wo78Yrnm"
      },
      "source": [
        " **Importing Packages**"
      ]
    },
    {
      "cell_type": "code",
      "metadata": {
        "id": "nfWZ8Fc4XKiS"
      },
      "source": [
        "import numpy as np \n",
        "import pandas as pd \n",
        "import seaborn as sns\n",
        "import matplotlib.pyplot as plt\n",
        "import os\n",
        "from glob import glob\n",
        "import cv2\n",
        "\n",
        "from keras.models import Sequential \n",
        "from keras.layers import Conv2D, MaxPooling2D, Activation, Dropout, Flatten, Dense\n",
        "from keras.preprocessing.image import ImageDataGenerator, img_to_array, load_img"
      ],
      "execution_count": 1,
      "outputs": []
    },
    {
      "cell_type": "code",
      "metadata": {
        "id": "t8RrzjnzbpH0"
      },
      "source": [
        "from keras.models import Sequential\n",
        "from keras.layers import Conv2D, MaxPooling2D, Activation, Dropout, Flatten, Dense\n",
        "from keras.preprocessing.image import ImageDataGenerator, img_to_array, load_img\n",
        "import matplotlib.pyplot as plt\n",
        "from PIL import Image \n",
        "from glob import glob\n",
        "import tensorflow as tf\n"
      ],
      "execution_count": 4,
      "outputs": []
    },
    {
      "cell_type": "code",
      "metadata": {
        "colab": {
          "base_uri": "https://localhost:8080/"
        },
        "id": "sqcfmc8qtYnJ",
        "outputId": "93dfbb7b-38eb-4244-c259-1ec7d6f75c2f"
      },
      "source": [
        "print(tf.test.gpu_device_name())\n",
        "from tensorflow.python.client import device_lib\n",
        "print(device_lib.list_local_devices())\n",
        "!cat /proc/meminfo"
      ],
      "execution_count": 5,
      "outputs": [
        {
          "output_type": "stream",
          "text": [
            "/device:GPU:0\n",
            "[name: \"/device:CPU:0\"\n",
            "device_type: \"CPU\"\n",
            "memory_limit: 268435456\n",
            "locality {\n",
            "}\n",
            "incarnation: 6574903857353676918\n",
            ", name: \"/device:GPU:0\"\n",
            "device_type: \"GPU\"\n",
            "memory_limit: 11154422528\n",
            "locality {\n",
            "  bus_id: 1\n",
            "  links {\n",
            "  }\n",
            "}\n",
            "incarnation: 9190846040501557904\n",
            "physical_device_desc: \"device: 0, name: Tesla K80, pci bus id: 0000:00:04.0, compute capability: 3.7\"\n",
            "]\n",
            "MemTotal:       13333564 kB\n",
            "MemFree:         9671036 kB\n",
            "MemAvailable:   12111652 kB\n",
            "Buffers:           85616 kB\n",
            "Cached:          2403048 kB\n",
            "SwapCached:            0 kB\n",
            "Active:          1248500 kB\n",
            "Inactive:        2026676 kB\n",
            "Active(anon):     659376 kB\n",
            "Inactive(anon):     2412 kB\n",
            "Active(file):     589124 kB\n",
            "Inactive(file):  2024264 kB\n",
            "Unevictable:           0 kB\n",
            "Mlocked:               0 kB\n",
            "SwapTotal:             0 kB\n",
            "SwapFree:              0 kB\n",
            "Dirty:               372 kB\n",
            "Writeback:             0 kB\n",
            "AnonPages:        786352 kB\n",
            "Mapped:           529488 kB\n",
            "Shmem:              3060 kB\n",
            "Slab:             185500 kB\n",
            "SReclaimable:     135972 kB\n",
            "SUnreclaim:        49528 kB\n",
            "KernelStack:        4340 kB\n",
            "PageTables:         8616 kB\n",
            "NFS_Unstable:          0 kB\n",
            "Bounce:                0 kB\n",
            "WritebackTmp:          0 kB\n",
            "CommitLimit:     6666780 kB\n",
            "Committed_AS:    3557828 kB\n",
            "VmallocTotal:   34359738367 kB\n",
            "VmallocUsed:           0 kB\n",
            "VmallocChunk:          0 kB\n",
            "Percpu:             1048 kB\n",
            "AnonHugePages:         0 kB\n",
            "ShmemHugePages:        0 kB\n",
            "ShmemPmdMapped:        0 kB\n",
            "HugePages_Total:       0\n",
            "HugePages_Free:        0\n",
            "HugePages_Rsvd:        0\n",
            "HugePages_Surp:        0\n",
            "Hugepagesize:       2048 kB\n",
            "Hugetlb:               0 kB\n",
            "DirectMap4k:      181448 kB\n",
            "DirectMap2M:     5060608 kB\n",
            "DirectMap1G:    10485760 kB\n"
          ],
          "name": "stdout"
        }
      ]
    },
    {
      "cell_type": "code",
      "metadata": {
        "id": "_sAgFH2aYqA1"
      },
      "source": [
        "from google.colab import drive"
      ],
      "execution_count": 6,
      "outputs": []
    },
    {
      "cell_type": "code",
      "metadata": {
        "colab": {
          "base_uri": "https://localhost:8080/"
        },
        "id": "xAMktzAyfCq_",
        "outputId": "e6a16f3f-7873-489a-fb37-bb0c3e251a2f"
      },
      "source": [
        "%cd drive/MyDrive/CNN\\ Project"
      ],
      "execution_count": 18,
      "outputs": [
        {
          "output_type": "stream",
          "text": [
            "/content/drive/MyDrive/CNN Project\n"
          ],
          "name": "stdout"
        }
      ]
    },
    {
      "cell_type": "code",
      "metadata": {
        "id": "DYXIsEQwfKcr"
      },
      "source": [
        "# Handle table-like data and matrices :\n",
        "import numpy as np\n",
        "import pandas as pd\n",
        "import math \n",
        "import itertools\n",
        "\n",
        "\n",
        "\n",
        "# Modelling Algorithms :\n",
        "\n",
        "# Classification\n",
        "from sklearn.tree import DecisionTreeClassifier\n",
        "from sklearn.linear_model import LogisticRegression\n",
        "from sklearn.neighbors import KNeighborsClassifier\n",
        "from sklearn.naive_bayes import GaussianNB\n",
        "from sklearn.svm import SVC, LinearSVC\n",
        "from sklearn.ensemble import RandomForestClassifier , GradientBoostingClassifier\n",
        "from sklearn.discriminant_analysis import LinearDiscriminantAnalysis , QuadraticDiscriminantAnalysis\n",
        "\n",
        "\n",
        "from sklearn.impute import SimpleImputer\n",
        "from sklearn.preprocessing import MinMaxScaler , StandardScaler, LabelEncoder\n",
        "\n",
        "\n",
        "\n",
        "#evaluation metrics :\n",
        "\n",
        "# Regression\n",
        "from sklearn.metrics import mean_squared_log_error,mean_squared_error, r2_score,mean_absolute_error \n",
        "\n",
        "# Classification\n",
        "from sklearn.metrics import accuracy_score,precision_score,recall_score,f1_score  \n",
        "\n",
        "\n",
        "# Deep Learning Libraries\n",
        "from keras.models import Sequential, load_model\n",
        "from keras.layers import Dense, Dropout, Flatten\n",
        "from keras.layers import Conv2D, MaxPooling2D, BatchNormalization\n",
        "from keras.optimizers import Adam,SGD,Adagrad,Adadelta,RMSprop\n",
        "from keras.preprocessing.image import ImageDataGenerator\n",
        "from keras.callbacks import ReduceLROnPlateau, LearningRateScheduler\n",
        "from keras.utils import to_categorical\n",
        "\n",
        "\n",
        "\n",
        "# Visualisation\n",
        "import matplotlib as mpl\n",
        "import matplotlib.pyplot as plt\n",
        "import matplotlib.pylab as pylab\n",
        "import seaborn as sns\n",
        "import missingno as msno\n",
        "\n",
        "\n",
        "\n",
        "# Configure visualisations\n",
        "%matplotlib inline\n"
      ],
      "execution_count": 19,
      "outputs": []
    },
    {
      "cell_type": "code",
      "metadata": {
        "id": "GdKuPZsKfgLT"
      },
      "source": [
        "train = pd.read_csv('./fashion-mnist_train.csv')\n",
        "test = pd.read_csv('./fashion-mnist_test.csv')\n",
        "df_train = train.copy()\n",
        "df_test = test.copy()"
      ],
      "execution_count": 20,
      "outputs": []
    },
    {
      "cell_type": "code",
      "metadata": {
        "colab": {
          "base_uri": "https://localhost:8080/",
          "height": 251
        },
        "id": "_Xs5pEDbgI-T",
        "outputId": "5d8ba7af-4650-4ef6-a1a0-1cd7c0fd8a90"
      },
      "source": [
        "df_train.head()"
      ],
      "execution_count": 21,
      "outputs": [
        {
          "output_type": "execute_result",
          "data": {
            "text/html": [
              "<div>\n",
              "<style scoped>\n",
              "    .dataframe tbody tr th:only-of-type {\n",
              "        vertical-align: middle;\n",
              "    }\n",
              "\n",
              "    .dataframe tbody tr th {\n",
              "        vertical-align: top;\n",
              "    }\n",
              "\n",
              "    .dataframe thead th {\n",
              "        text-align: right;\n",
              "    }\n",
              "</style>\n",
              "<table border=\"1\" class=\"dataframe\">\n",
              "  <thead>\n",
              "    <tr style=\"text-align: right;\">\n",
              "      <th></th>\n",
              "      <th>label</th>\n",
              "      <th>pixel1</th>\n",
              "      <th>pixel2</th>\n",
              "      <th>pixel3</th>\n",
              "      <th>pixel4</th>\n",
              "      <th>pixel5</th>\n",
              "      <th>pixel6</th>\n",
              "      <th>pixel7</th>\n",
              "      <th>pixel8</th>\n",
              "      <th>pixel9</th>\n",
              "      <th>pixel10</th>\n",
              "      <th>pixel11</th>\n",
              "      <th>pixel12</th>\n",
              "      <th>pixel13</th>\n",
              "      <th>pixel14</th>\n",
              "      <th>pixel15</th>\n",
              "      <th>pixel16</th>\n",
              "      <th>pixel17</th>\n",
              "      <th>pixel18</th>\n",
              "      <th>pixel19</th>\n",
              "      <th>pixel20</th>\n",
              "      <th>pixel21</th>\n",
              "      <th>pixel22</th>\n",
              "      <th>pixel23</th>\n",
              "      <th>pixel24</th>\n",
              "      <th>pixel25</th>\n",
              "      <th>pixel26</th>\n",
              "      <th>pixel27</th>\n",
              "      <th>pixel28</th>\n",
              "      <th>pixel29</th>\n",
              "      <th>pixel30</th>\n",
              "      <th>pixel31</th>\n",
              "      <th>pixel32</th>\n",
              "      <th>pixel33</th>\n",
              "      <th>pixel34</th>\n",
              "      <th>pixel35</th>\n",
              "      <th>pixel36</th>\n",
              "      <th>pixel37</th>\n",
              "      <th>pixel38</th>\n",
              "      <th>pixel39</th>\n",
              "      <th>...</th>\n",
              "      <th>pixel745</th>\n",
              "      <th>pixel746</th>\n",
              "      <th>pixel747</th>\n",
              "      <th>pixel748</th>\n",
              "      <th>pixel749</th>\n",
              "      <th>pixel750</th>\n",
              "      <th>pixel751</th>\n",
              "      <th>pixel752</th>\n",
              "      <th>pixel753</th>\n",
              "      <th>pixel754</th>\n",
              "      <th>pixel755</th>\n",
              "      <th>pixel756</th>\n",
              "      <th>pixel757</th>\n",
              "      <th>pixel758</th>\n",
              "      <th>pixel759</th>\n",
              "      <th>pixel760</th>\n",
              "      <th>pixel761</th>\n",
              "      <th>pixel762</th>\n",
              "      <th>pixel763</th>\n",
              "      <th>pixel764</th>\n",
              "      <th>pixel765</th>\n",
              "      <th>pixel766</th>\n",
              "      <th>pixel767</th>\n",
              "      <th>pixel768</th>\n",
              "      <th>pixel769</th>\n",
              "      <th>pixel770</th>\n",
              "      <th>pixel771</th>\n",
              "      <th>pixel772</th>\n",
              "      <th>pixel773</th>\n",
              "      <th>pixel774</th>\n",
              "      <th>pixel775</th>\n",
              "      <th>pixel776</th>\n",
              "      <th>pixel777</th>\n",
              "      <th>pixel778</th>\n",
              "      <th>pixel779</th>\n",
              "      <th>pixel780</th>\n",
              "      <th>pixel781</th>\n",
              "      <th>pixel782</th>\n",
              "      <th>pixel783</th>\n",
              "      <th>pixel784</th>\n",
              "    </tr>\n",
              "  </thead>\n",
              "  <tbody>\n",
              "    <tr>\n",
              "      <th>0</th>\n",
              "      <td>2</td>\n",
              "      <td>0</td>\n",
              "      <td>0</td>\n",
              "      <td>0</td>\n",
              "      <td>0</td>\n",
              "      <td>0</td>\n",
              "      <td>0</td>\n",
              "      <td>0</td>\n",
              "      <td>0</td>\n",
              "      <td>0</td>\n",
              "      <td>0</td>\n",
              "      <td>0</td>\n",
              "      <td>0</td>\n",
              "      <td>0</td>\n",
              "      <td>0</td>\n",
              "      <td>0</td>\n",
              "      <td>0</td>\n",
              "      <td>0</td>\n",
              "      <td>0</td>\n",
              "      <td>0</td>\n",
              "      <td>0</td>\n",
              "      <td>0</td>\n",
              "      <td>0</td>\n",
              "      <td>0</td>\n",
              "      <td>0</td>\n",
              "      <td>0</td>\n",
              "      <td>0</td>\n",
              "      <td>0</td>\n",
              "      <td>0</td>\n",
              "      <td>0</td>\n",
              "      <td>0</td>\n",
              "      <td>0</td>\n",
              "      <td>0</td>\n",
              "      <td>0</td>\n",
              "      <td>0</td>\n",
              "      <td>0</td>\n",
              "      <td>0</td>\n",
              "      <td>0</td>\n",
              "      <td>0</td>\n",
              "      <td>0</td>\n",
              "      <td>...</td>\n",
              "      <td>0</td>\n",
              "      <td>0</td>\n",
              "      <td>0</td>\n",
              "      <td>0</td>\n",
              "      <td>0</td>\n",
              "      <td>0</td>\n",
              "      <td>0</td>\n",
              "      <td>0</td>\n",
              "      <td>0</td>\n",
              "      <td>0</td>\n",
              "      <td>0</td>\n",
              "      <td>0</td>\n",
              "      <td>0</td>\n",
              "      <td>0</td>\n",
              "      <td>0</td>\n",
              "      <td>0</td>\n",
              "      <td>0</td>\n",
              "      <td>0</td>\n",
              "      <td>0</td>\n",
              "      <td>0</td>\n",
              "      <td>0</td>\n",
              "      <td>0</td>\n",
              "      <td>0</td>\n",
              "      <td>0</td>\n",
              "      <td>0</td>\n",
              "      <td>0</td>\n",
              "      <td>0</td>\n",
              "      <td>0</td>\n",
              "      <td>0</td>\n",
              "      <td>0</td>\n",
              "      <td>0</td>\n",
              "      <td>0</td>\n",
              "      <td>0</td>\n",
              "      <td>0</td>\n",
              "      <td>0</td>\n",
              "      <td>0</td>\n",
              "      <td>0</td>\n",
              "      <td>0</td>\n",
              "      <td>0</td>\n",
              "      <td>0</td>\n",
              "    </tr>\n",
              "    <tr>\n",
              "      <th>1</th>\n",
              "      <td>9</td>\n",
              "      <td>0</td>\n",
              "      <td>0</td>\n",
              "      <td>0</td>\n",
              "      <td>0</td>\n",
              "      <td>0</td>\n",
              "      <td>0</td>\n",
              "      <td>0</td>\n",
              "      <td>0</td>\n",
              "      <td>0</td>\n",
              "      <td>0</td>\n",
              "      <td>0</td>\n",
              "      <td>0</td>\n",
              "      <td>0</td>\n",
              "      <td>0</td>\n",
              "      <td>0</td>\n",
              "      <td>0</td>\n",
              "      <td>0</td>\n",
              "      <td>0</td>\n",
              "      <td>0</td>\n",
              "      <td>0</td>\n",
              "      <td>0</td>\n",
              "      <td>0</td>\n",
              "      <td>0</td>\n",
              "      <td>0</td>\n",
              "      <td>0</td>\n",
              "      <td>0</td>\n",
              "      <td>0</td>\n",
              "      <td>0</td>\n",
              "      <td>0</td>\n",
              "      <td>0</td>\n",
              "      <td>0</td>\n",
              "      <td>0</td>\n",
              "      <td>0</td>\n",
              "      <td>0</td>\n",
              "      <td>0</td>\n",
              "      <td>0</td>\n",
              "      <td>0</td>\n",
              "      <td>0</td>\n",
              "      <td>0</td>\n",
              "      <td>...</td>\n",
              "      <td>0</td>\n",
              "      <td>0</td>\n",
              "      <td>0</td>\n",
              "      <td>0</td>\n",
              "      <td>0</td>\n",
              "      <td>0</td>\n",
              "      <td>0</td>\n",
              "      <td>0</td>\n",
              "      <td>0</td>\n",
              "      <td>0</td>\n",
              "      <td>0</td>\n",
              "      <td>0</td>\n",
              "      <td>0</td>\n",
              "      <td>0</td>\n",
              "      <td>0</td>\n",
              "      <td>0</td>\n",
              "      <td>0</td>\n",
              "      <td>0</td>\n",
              "      <td>0</td>\n",
              "      <td>0</td>\n",
              "      <td>0</td>\n",
              "      <td>0</td>\n",
              "      <td>0</td>\n",
              "      <td>0</td>\n",
              "      <td>0</td>\n",
              "      <td>0</td>\n",
              "      <td>0</td>\n",
              "      <td>0</td>\n",
              "      <td>0</td>\n",
              "      <td>0</td>\n",
              "      <td>0</td>\n",
              "      <td>0</td>\n",
              "      <td>0</td>\n",
              "      <td>0</td>\n",
              "      <td>0</td>\n",
              "      <td>0</td>\n",
              "      <td>0</td>\n",
              "      <td>0</td>\n",
              "      <td>0</td>\n",
              "      <td>0</td>\n",
              "    </tr>\n",
              "    <tr>\n",
              "      <th>2</th>\n",
              "      <td>6</td>\n",
              "      <td>0</td>\n",
              "      <td>0</td>\n",
              "      <td>0</td>\n",
              "      <td>0</td>\n",
              "      <td>0</td>\n",
              "      <td>0</td>\n",
              "      <td>0</td>\n",
              "      <td>5</td>\n",
              "      <td>0</td>\n",
              "      <td>0</td>\n",
              "      <td>0</td>\n",
              "      <td>105</td>\n",
              "      <td>92</td>\n",
              "      <td>101</td>\n",
              "      <td>107</td>\n",
              "      <td>100</td>\n",
              "      <td>132</td>\n",
              "      <td>0</td>\n",
              "      <td>0</td>\n",
              "      <td>2</td>\n",
              "      <td>4</td>\n",
              "      <td>0</td>\n",
              "      <td>1</td>\n",
              "      <td>0</td>\n",
              "      <td>0</td>\n",
              "      <td>0</td>\n",
              "      <td>0</td>\n",
              "      <td>0</td>\n",
              "      <td>0</td>\n",
              "      <td>0</td>\n",
              "      <td>0</td>\n",
              "      <td>0</td>\n",
              "      <td>0</td>\n",
              "      <td>0</td>\n",
              "      <td>0</td>\n",
              "      <td>0</td>\n",
              "      <td>0</td>\n",
              "      <td>0</td>\n",
              "      <td>150</td>\n",
              "      <td>...</td>\n",
              "      <td>211</td>\n",
              "      <td>220</td>\n",
              "      <td>214</td>\n",
              "      <td>74</td>\n",
              "      <td>0</td>\n",
              "      <td>255</td>\n",
              "      <td>222</td>\n",
              "      <td>128</td>\n",
              "      <td>0</td>\n",
              "      <td>0</td>\n",
              "      <td>0</td>\n",
              "      <td>0</td>\n",
              "      <td>0</td>\n",
              "      <td>0</td>\n",
              "      <td>0</td>\n",
              "      <td>0</td>\n",
              "      <td>0</td>\n",
              "      <td>44</td>\n",
              "      <td>12</td>\n",
              "      <td>0</td>\n",
              "      <td>0</td>\n",
              "      <td>40</td>\n",
              "      <td>134</td>\n",
              "      <td>162</td>\n",
              "      <td>191</td>\n",
              "      <td>214</td>\n",
              "      <td>163</td>\n",
              "      <td>146</td>\n",
              "      <td>165</td>\n",
              "      <td>79</td>\n",
              "      <td>0</td>\n",
              "      <td>0</td>\n",
              "      <td>0</td>\n",
              "      <td>30</td>\n",
              "      <td>43</td>\n",
              "      <td>0</td>\n",
              "      <td>0</td>\n",
              "      <td>0</td>\n",
              "      <td>0</td>\n",
              "      <td>0</td>\n",
              "    </tr>\n",
              "    <tr>\n",
              "      <th>3</th>\n",
              "      <td>0</td>\n",
              "      <td>0</td>\n",
              "      <td>0</td>\n",
              "      <td>0</td>\n",
              "      <td>1</td>\n",
              "      <td>2</td>\n",
              "      <td>0</td>\n",
              "      <td>0</td>\n",
              "      <td>0</td>\n",
              "      <td>0</td>\n",
              "      <td>0</td>\n",
              "      <td>114</td>\n",
              "      <td>183</td>\n",
              "      <td>112</td>\n",
              "      <td>55</td>\n",
              "      <td>23</td>\n",
              "      <td>72</td>\n",
              "      <td>102</td>\n",
              "      <td>165</td>\n",
              "      <td>160</td>\n",
              "      <td>28</td>\n",
              "      <td>0</td>\n",
              "      <td>0</td>\n",
              "      <td>0</td>\n",
              "      <td>1</td>\n",
              "      <td>0</td>\n",
              "      <td>0</td>\n",
              "      <td>0</td>\n",
              "      <td>0</td>\n",
              "      <td>0</td>\n",
              "      <td>0</td>\n",
              "      <td>0</td>\n",
              "      <td>0</td>\n",
              "      <td>1</td>\n",
              "      <td>0</td>\n",
              "      <td>0</td>\n",
              "      <td>24</td>\n",
              "      <td>188</td>\n",
              "      <td>163</td>\n",
              "      <td>93</td>\n",
              "      <td>...</td>\n",
              "      <td>171</td>\n",
              "      <td>249</td>\n",
              "      <td>207</td>\n",
              "      <td>197</td>\n",
              "      <td>202</td>\n",
              "      <td>45</td>\n",
              "      <td>0</td>\n",
              "      <td>3</td>\n",
              "      <td>0</td>\n",
              "      <td>0</td>\n",
              "      <td>0</td>\n",
              "      <td>0</td>\n",
              "      <td>0</td>\n",
              "      <td>0</td>\n",
              "      <td>0</td>\n",
              "      <td>0</td>\n",
              "      <td>0</td>\n",
              "      <td>0</td>\n",
              "      <td>1</td>\n",
              "      <td>0</td>\n",
              "      <td>0</td>\n",
              "      <td>0</td>\n",
              "      <td>22</td>\n",
              "      <td>21</td>\n",
              "      <td>25</td>\n",
              "      <td>69</td>\n",
              "      <td>52</td>\n",
              "      <td>45</td>\n",
              "      <td>74</td>\n",
              "      <td>39</td>\n",
              "      <td>3</td>\n",
              "      <td>0</td>\n",
              "      <td>0</td>\n",
              "      <td>0</td>\n",
              "      <td>0</td>\n",
              "      <td>1</td>\n",
              "      <td>0</td>\n",
              "      <td>0</td>\n",
              "      <td>0</td>\n",
              "      <td>0</td>\n",
              "    </tr>\n",
              "    <tr>\n",
              "      <th>4</th>\n",
              "      <td>3</td>\n",
              "      <td>0</td>\n",
              "      <td>0</td>\n",
              "      <td>0</td>\n",
              "      <td>0</td>\n",
              "      <td>0</td>\n",
              "      <td>0</td>\n",
              "      <td>0</td>\n",
              "      <td>0</td>\n",
              "      <td>0</td>\n",
              "      <td>0</td>\n",
              "      <td>0</td>\n",
              "      <td>0</td>\n",
              "      <td>46</td>\n",
              "      <td>0</td>\n",
              "      <td>21</td>\n",
              "      <td>68</td>\n",
              "      <td>0</td>\n",
              "      <td>0</td>\n",
              "      <td>0</td>\n",
              "      <td>0</td>\n",
              "      <td>0</td>\n",
              "      <td>0</td>\n",
              "      <td>0</td>\n",
              "      <td>0</td>\n",
              "      <td>0</td>\n",
              "      <td>0</td>\n",
              "      <td>0</td>\n",
              "      <td>0</td>\n",
              "      <td>0</td>\n",
              "      <td>0</td>\n",
              "      <td>0</td>\n",
              "      <td>0</td>\n",
              "      <td>0</td>\n",
              "      <td>0</td>\n",
              "      <td>0</td>\n",
              "      <td>0</td>\n",
              "      <td>25</td>\n",
              "      <td>187</td>\n",
              "      <td>189</td>\n",
              "      <td>...</td>\n",
              "      <td>230</td>\n",
              "      <td>237</td>\n",
              "      <td>229</td>\n",
              "      <td>0</td>\n",
              "      <td>0</td>\n",
              "      <td>1</td>\n",
              "      <td>0</td>\n",
              "      <td>0</td>\n",
              "      <td>0</td>\n",
              "      <td>0</td>\n",
              "      <td>0</td>\n",
              "      <td>0</td>\n",
              "      <td>0</td>\n",
              "      <td>0</td>\n",
              "      <td>0</td>\n",
              "      <td>0</td>\n",
              "      <td>0</td>\n",
              "      <td>0</td>\n",
              "      <td>0</td>\n",
              "      <td>0</td>\n",
              "      <td>0</td>\n",
              "      <td>68</td>\n",
              "      <td>116</td>\n",
              "      <td>112</td>\n",
              "      <td>136</td>\n",
              "      <td>147</td>\n",
              "      <td>144</td>\n",
              "      <td>121</td>\n",
              "      <td>102</td>\n",
              "      <td>63</td>\n",
              "      <td>0</td>\n",
              "      <td>0</td>\n",
              "      <td>0</td>\n",
              "      <td>0</td>\n",
              "      <td>0</td>\n",
              "      <td>0</td>\n",
              "      <td>0</td>\n",
              "      <td>0</td>\n",
              "      <td>0</td>\n",
              "      <td>0</td>\n",
              "    </tr>\n",
              "  </tbody>\n",
              "</table>\n",
              "<p>5 rows × 785 columns</p>\n",
              "</div>"
            ],
            "text/plain": [
              "   label  pixel1  pixel2  pixel3  ...  pixel781  pixel782  pixel783  pixel784\n",
              "0      2       0       0       0  ...         0         0         0         0\n",
              "1      9       0       0       0  ...         0         0         0         0\n",
              "2      6       0       0       0  ...         0         0         0         0\n",
              "3      0       0       0       0  ...         0         0         0         0\n",
              "4      3       0       0       0  ...         0         0         0         0\n",
              "\n",
              "[5 rows x 785 columns]"
            ]
          },
          "metadata": {
            "tags": []
          },
          "execution_count": 21
        }
      ]
    },
    {
      "cell_type": "markdown",
      "metadata": {
        "id": "RQ-b2iTFgVUo"
      },
      "source": [
        "**Find the shape and other details about image**"
      ]
    },
    {
      "cell_type": "code",
      "metadata": {
        "colab": {
          "base_uri": "https://localhost:8080/"
        },
        "id": "4NEAM3WfgRrl",
        "outputId": "e95e8138-540e-423f-c0bd-df1b2a6e1c3c"
      },
      "source": [
        "print(\"Training data shape: \", df_train.shape)\n",
        "print(\"Testing data shape: \", df_test.shape)"
      ],
      "execution_count": 22,
      "outputs": [
        {
          "output_type": "stream",
          "text": [
            "Training data shape:  (60000, 785)\n",
            "Testing data shape:  (10000, 785)\n"
          ],
          "name": "stdout"
        }
      ]
    },
    {
      "cell_type": "code",
      "metadata": {
        "colab": {
          "base_uri": "https://localhost:8080/"
        },
        "id": "XJNxceEAgmcH",
        "outputId": "ebd92e9d-f7b7-4273-d778-34026bde1c5b"
      },
      "source": [
        "print(\"Dataset information type: \")\n",
        "print(df_train.info())"
      ],
      "execution_count": 23,
      "outputs": [
        {
          "output_type": "stream",
          "text": [
            "Dataset information type: \n",
            "<class 'pandas.core.frame.DataFrame'>\n",
            "RangeIndex: 60000 entries, 0 to 59999\n",
            "Columns: 785 entries, label to pixel784\n",
            "dtypes: int64(785)\n",
            "memory usage: 359.3 MB\n",
            "None\n"
          ],
          "name": "stdout"
        }
      ]
    },
    {
      "cell_type": "markdown",
      "metadata": {
        "id": "GBAVEqo8hOy_"
      },
      "source": [
        "**Finding the no of labels**"
      ]
    },
    {
      "cell_type": "code",
      "metadata": {
        "colab": {
          "base_uri": "https://localhost:8080/"
        },
        "id": "vXF0b6QZg0_I",
        "outputId": "a4a3f79e-5212-4327-d432-9c4c0b496941"
      },
      "source": [
        "print(\"The total no of labels: \", (df_train.label.unique().shape))\n",
        "print(\"The unique labels are: \", df_train.label.unique())"
      ],
      "execution_count": 24,
      "outputs": [
        {
          "output_type": "stream",
          "text": [
            "The total no of labels:  (10,)\n",
            "The unique labels are:  [2 9 6 0 3 4 5 8 7 1]\n"
          ],
          "name": "stdout"
        }
      ]
    },
    {
      "cell_type": "code",
      "metadata": {
        "colab": {
          "base_uri": "https://localhost:8080/"
        },
        "id": "Febpc6hDiwJE",
        "outputId": "5f97bfc1-0d99-4ed9-a196-94f4f50917d9"
      },
      "source": [
        "print(\"The ditribution of labels: \", df_train['label'].value_counts())"
      ],
      "execution_count": 25,
      "outputs": [
        {
          "output_type": "stream",
          "text": [
            "The ditribution of labels:  9    6000\n",
            "8    6000\n",
            "7    6000\n",
            "6    6000\n",
            "5    6000\n",
            "4    6000\n",
            "3    6000\n",
            "2    6000\n",
            "1    6000\n",
            "0    6000\n",
            "Name: label, dtype: int64\n"
          ],
          "name": "stdout"
        }
      ]
    },
    {
      "cell_type": "markdown",
      "metadata": {
        "id": "LU_Gv52qjv_k"
      },
      "source": [
        "**Separating input and label**"
      ]
    },
    {
      "cell_type": "code",
      "metadata": {
        "colab": {
          "base_uri": "https://localhost:8080/"
        },
        "id": "pCxXZ1Qqjrv9",
        "outputId": "36ffe5bc-81dc-47de-d455-20c6f1c9d1fe"
      },
      "source": [
        "X_train = df_train.iloc[:,1:]\n",
        "y_train = df_train.iloc[:,0:1]\n",
        "print(\"Shape of X: \", X_train.shape)\n",
        "print(\"Shape of Y: \",y_train.shape)"
      ],
      "execution_count": 26,
      "outputs": [
        {
          "output_type": "stream",
          "text": [
            "Shape of X:  (60000, 784)\n",
            "Shape of Y:  (60000, 1)\n"
          ],
          "name": "stdout"
        }
      ]
    },
    {
      "cell_type": "markdown",
      "metadata": {
        "id": "Seh_JaKKkRNk"
      },
      "source": [
        "Since shape is 784, we reshape that to 28*28"
      ]
    },
    {
      "cell_type": "code",
      "metadata": {
        "id": "GYwJwmQEjPFP"
      },
      "source": [
        "X_train = X_train.values.reshape(X_train.shape[0],28,28,1)"
      ],
      "execution_count": 27,
      "outputs": []
    },
    {
      "cell_type": "code",
      "metadata": {
        "colab": {
          "base_uri": "https://localhost:8080/"
        },
        "id": "pLTm65sXkpPO",
        "outputId": "bcd6f542-72a3-4481-e598-480a2365ac1a"
      },
      "source": [
        "print(\"X shape: \", X_train.shape)"
      ],
      "execution_count": 28,
      "outputs": [
        {
          "output_type": "stream",
          "text": [
            "X shape:  (60000, 28, 28, 1)\n"
          ],
          "name": "stdout"
        }
      ]
    },
    {
      "cell_type": "code",
      "metadata": {
        "colab": {
          "base_uri": "https://localhost:8080/"
        },
        "id": "6hmkdfRumAjZ",
        "outputId": "ec3399f1-6929-4afd-bfee-fde8052b00c6"
      },
      "source": [
        "X_test = df_test.iloc[:,1:]\n",
        "y_test = df_test.iloc[:,0:1]\n",
        "print(\"Shape of X: \", X_test.shape)\n",
        "print(\"Shape of Y: \",y_test.shape)"
      ],
      "execution_count": 29,
      "outputs": [
        {
          "output_type": "stream",
          "text": [
            "Shape of X:  (10000, 784)\n",
            "Shape of Y:  (10000, 1)\n"
          ],
          "name": "stdout"
        }
      ]
    },
    {
      "cell_type": "code",
      "metadata": {
        "id": "ipBJ7A04mLrT"
      },
      "source": [
        "X_test = X_test.values.reshape(X_test.shape[0],28,28,1)"
      ],
      "execution_count": 30,
      "outputs": []
    },
    {
      "cell_type": "code",
      "metadata": {
        "colab": {
          "base_uri": "https://localhost:8080/"
        },
        "id": "n255_JyUmQBN",
        "outputId": "7d08444b-0327-4718-807a-c2227705089b"
      },
      "source": [
        "print(\"X shape: \", X_test.shape)"
      ],
      "execution_count": 31,
      "outputs": [
        {
          "output_type": "stream",
          "text": [
            "X shape:  (10000, 28, 28, 1)\n"
          ],
          "name": "stdout"
        }
      ]
    },
    {
      "cell_type": "markdown",
      "metadata": {
        "id": "EreRlR90lxW2"
      },
      "source": [
        "**Normalisation**"
      ]
    },
    {
      "cell_type": "markdown",
      "metadata": {
        "id": "MohMc-8_l0cv"
      },
      "source": [
        "Since pixels are of the range 0 to 255, we need to scale them"
      ]
    },
    {
      "cell_type": "code",
      "metadata": {
        "id": "fqREVSP8lvzQ"
      },
      "source": [
        "X_train = X_train.astype(\"float32\")/255\n",
        "X_test = X_test.astype(\"float32\")/255"
      ],
      "execution_count": 32,
      "outputs": []
    },
    {
      "cell_type": "markdown",
      "metadata": {
        "id": "ia0prujGmpx8"
      },
      "source": [
        "**One hot encoding**"
      ]
    },
    {
      "cell_type": "code",
      "metadata": {
        "id": "x4mum9fUmpNA"
      },
      "source": [
        "y_train = to_categorical(y_train, num_classes=10)\n",
        "y_test = to_categorical(y_test, num_classes=10)"
      ],
      "execution_count": 33,
      "outputs": []
    },
    {
      "cell_type": "code",
      "metadata": {
        "colab": {
          "base_uri": "https://localhost:8080/"
        },
        "id": "RnrC4jWok_Xj",
        "outputId": "dbcde0a4-2d26-498f-c13c-bef543317982"
      },
      "source": [
        "print(\"Shape of y train: \", y_train.shape)\n",
        "print(\"Shape of y test: \",y_test.shape)"
      ],
      "execution_count": 34,
      "outputs": [
        {
          "output_type": "stream",
          "text": [
            "Shape of y train:  (60000, 10)\n",
            "Shape of y test:  (10000, 10)\n"
          ],
          "name": "stdout"
        }
      ]
    },
    {
      "cell_type": "code",
      "metadata": {
        "colab": {
          "base_uri": "https://localhost:8080/"
        },
        "id": "_jPMVOsVm3AR",
        "outputId": "ea36a9bf-ac18-4bed-e0cf-9e46bba25700"
      },
      "source": [
        "print(\"Example: \", y_train[0])"
      ],
      "execution_count": 35,
      "outputs": [
        {
          "output_type": "stream",
          "text": [
            "Example:  [0. 0. 1. 0. 0. 0. 0. 0. 0. 0.]\n"
          ],
          "name": "stdout"
        }
      ]
    },
    {
      "cell_type": "markdown",
      "metadata": {
        "id": "x7Nwaitfn78w"
      },
      "source": [
        "**Building Model**"
      ]
    },
    {
      "cell_type": "code",
      "metadata": {
        "id": "1gjX9DbJn6rU"
      },
      "source": [
        "from keras.regularizers import l2\n",
        "model = Sequential()\n",
        "\n",
        "# Hidden layer 1\n",
        "model.add(Conv2D(filters=32, kernel_size=(3, 3), activation='relu', strides=1, padding='same', input_shape=(28,28,1)))\n",
        "model.add(BatchNormalization())\n",
        "model.add(Dropout(0.3))\n",
        "\n",
        "# Hidden layer 2\n",
        "model.add(Conv2D(filters=64, kernel_size=(3, 3), activation='relu', strides=1, padding='same'))\n",
        "model.add(BatchNormalization())\n",
        "model.add(Dropout(0.4))\n",
        "model.add(MaxPooling2D(pool_size=(2, 2)))\n",
        "\n",
        "# Hidden layer 3\n",
        "model.add(Conv2D(filters=64, kernel_size=(5, 5), activation='relu', strides=1, padding='same', kernel_regularizer=l2(0.01)))\n",
        "model.add(BatchNormalization())\n",
        "model.add(Dropout(0.5))\n",
        "model.add(MaxPooling2D(pool_size=(2, 2)))\n",
        "   \n",
        "# Hidden layer 4   \n",
        "model.add(Conv2D(filters=128, kernel_size=(3, 3), activation='relu', strides=1, padding='same', kernel_regularizer=l2(0.01)))\n",
        "model.add(BatchNormalization())\n",
        "model.add(Dropout(0.25))\n",
        "\n",
        "# Output Layer\n",
        "model.add(Flatten())\n",
        "model.add(Dense(512, activation='relu'))\n",
        "model.add(BatchNormalization())\n",
        "model.add(Dropout(0.5))\n",
        "model.add(Dense(128, activation='relu'))\n",
        "model.add(BatchNormalization())\n",
        "model.add(Dropout(0.5))\n",
        "model.add(Dense(10, activation='softmax'))"
      ],
      "execution_count": 36,
      "outputs": []
    },
    {
      "cell_type": "markdown",
      "metadata": {
        "id": "FNXg7B1OplEX"
      },
      "source": [
        "**Trying to use Adam Propagation**"
      ]
    },
    {
      "cell_type": "code",
      "metadata": {
        "id": "rL2-ECgzm9TP"
      },
      "source": [
        "model.compile(optimizer = 'Adam', loss = 'categorical_crossentropy', metrics = ['accuracy'])"
      ],
      "execution_count": 37,
      "outputs": []
    },
    {
      "cell_type": "code",
      "metadata": {
        "colab": {
          "base_uri": "https://localhost:8080/"
        },
        "id": "CtC1jd3mp184",
        "outputId": "0e755521-88e6-4602-c339-539dbfb79f21"
      },
      "source": [
        "print(\"Summary of the model: \")\n",
        "model.summary()"
      ],
      "execution_count": 38,
      "outputs": [
        {
          "output_type": "stream",
          "text": [
            "Summary of the model: \n",
            "Model: \"sequential\"\n",
            "_________________________________________________________________\n",
            "Layer (type)                 Output Shape              Param #   \n",
            "=================================================================\n",
            "conv2d (Conv2D)              (None, 28, 28, 32)        320       \n",
            "_________________________________________________________________\n",
            "batch_normalization (BatchNo (None, 28, 28, 32)        128       \n",
            "_________________________________________________________________\n",
            "dropout (Dropout)            (None, 28, 28, 32)        0         \n",
            "_________________________________________________________________\n",
            "conv2d_1 (Conv2D)            (None, 28, 28, 64)        18496     \n",
            "_________________________________________________________________\n",
            "batch_normalization_1 (Batch (None, 28, 28, 64)        256       \n",
            "_________________________________________________________________\n",
            "dropout_1 (Dropout)          (None, 28, 28, 64)        0         \n",
            "_________________________________________________________________\n",
            "max_pooling2d (MaxPooling2D) (None, 14, 14, 64)        0         \n",
            "_________________________________________________________________\n",
            "conv2d_2 (Conv2D)            (None, 14, 14, 64)        102464    \n",
            "_________________________________________________________________\n",
            "batch_normalization_2 (Batch (None, 14, 14, 64)        256       \n",
            "_________________________________________________________________\n",
            "dropout_2 (Dropout)          (None, 14, 14, 64)        0         \n",
            "_________________________________________________________________\n",
            "max_pooling2d_1 (MaxPooling2 (None, 7, 7, 64)          0         \n",
            "_________________________________________________________________\n",
            "conv2d_3 (Conv2D)            (None, 7, 7, 128)         73856     \n",
            "_________________________________________________________________\n",
            "batch_normalization_3 (Batch (None, 7, 7, 128)         512       \n",
            "_________________________________________________________________\n",
            "dropout_3 (Dropout)          (None, 7, 7, 128)         0         \n",
            "_________________________________________________________________\n",
            "flatten (Flatten)            (None, 6272)              0         \n",
            "_________________________________________________________________\n",
            "dense (Dense)                (None, 512)               3211776   \n",
            "_________________________________________________________________\n",
            "batch_normalization_4 (Batch (None, 512)               2048      \n",
            "_________________________________________________________________\n",
            "dropout_4 (Dropout)          (None, 512)               0         \n",
            "_________________________________________________________________\n",
            "dense_1 (Dense)              (None, 128)               65664     \n",
            "_________________________________________________________________\n",
            "batch_normalization_5 (Batch (None, 128)               512       \n",
            "_________________________________________________________________\n",
            "dropout_5 (Dropout)          (None, 128)               0         \n",
            "_________________________________________________________________\n",
            "dense_2 (Dense)              (None, 10)                1290      \n",
            "=================================================================\n",
            "Total params: 3,477,578\n",
            "Trainable params: 3,475,722\n",
            "Non-trainable params: 1,856\n",
            "_________________________________________________________________\n"
          ],
          "name": "stdout"
        }
      ]
    },
    {
      "cell_type": "markdown",
      "metadata": {
        "id": "UzWTCM-sqCpC"
      },
      "source": [
        "**We change the learning rate as the model evolves**"
      ]
    },
    {
      "cell_type": "code",
      "metadata": {
        "id": "aHsLjKZ6qCKl"
      },
      "source": [
        "reduce_lr = LearningRateScheduler(lambda x: 1e-3 * 0.9 ** x)"
      ],
      "execution_count": 39,
      "outputs": []
    },
    {
      "cell_type": "markdown",
      "metadata": {
        "id": "HjsXM6V5kwkw"
      },
      "source": [
        "**Data Augmentation**"
      ]
    },
    {
      "cell_type": "code",
      "metadata": {
        "id": "JMNTPHmNktUP"
      },
      "source": [
        "from keras.preprocessing.image import ImageDataGenerator\n",
        "datagen = ImageDataGenerator(\n",
        "        featurewise_center=False,  # set input mean to 0 over the dataset\n",
        "        samplewise_center=False,  # set each sample mean to 0\n",
        "        featurewise_std_normalization=False,  # divide inputs by std of the dataset\n",
        "        samplewise_std_normalization=True,  # divide each input by its std\n",
        "        zca_whitening=False,  # dimesion reduction\n",
        "        rotation_range=0.5,  # randomly rotate images in the range\n",
        "        zoom_range = 0.1, # Randomly zoom image\n",
        "        width_shift_range=0.3,  # randomly shift images horizontally\n",
        "        height_shift_range=0.1,  # randomly shift images vertically\n",
        "        horizontal_flip=False,  # randomly flip images\n",
        "        vertical_flip=False)  # randomly flip images\n",
        "\n",
        "datagen.fit(X_train)"
      ],
      "execution_count": 40,
      "outputs": []
    },
    {
      "cell_type": "markdown",
      "metadata": {
        "id": "ruQVB-WUq6p8"
      },
      "source": [
        "**Create validation set also**"
      ]
    },
    {
      "cell_type": "code",
      "metadata": {
        "colab": {
          "base_uri": "https://localhost:8080/"
        },
        "id": "S_0wZSsUq95Z",
        "outputId": "a040057f-a330-4f27-ac8c-cfa0d4415f28"
      },
      "source": [
        "from sklearn.model_selection import train_test_split\n",
        "X_train, X_val, y_train, y_val = train_test_split(X_train, y_train, test_size=0.15)\n",
        "\n",
        "print('Training set shape: ', X_train.shape, y_train.shape)\n",
        "print('Validation set shape: ', X_val.shape, y_val.shape)"
      ],
      "execution_count": 41,
      "outputs": [
        {
          "output_type": "stream",
          "text": [
            "Training set shape:  (51000, 28, 28, 1) (51000, 10)\n",
            "Validation set shape:  (9000, 28, 28, 1) (9000, 10)\n"
          ],
          "name": "stdout"
        }
      ]
    },
    {
      "cell_type": "markdown",
      "metadata": {
        "id": "DucdltLwqaxa"
      },
      "source": [
        "**Training the Model**"
      ]
    },
    {
      "cell_type": "code",
      "metadata": {
        "colab": {
          "base_uri": "https://localhost:8080/"
        },
        "id": "pA4SloOOqUme",
        "outputId": "f2f72c3c-85af-4292-fea1-3004013ef617"
      },
      "source": [
        "from tensorflow.keras.callbacks import EarlyStopping\n",
        "early_stopping = EarlyStopping(monitor='loss', patience=5, verbose=1)\n",
        "history = model.fit_generator(datagen.flow(X_train, y_train, batch_size = 80), epochs = 75, \n",
        "                              validation_data = (X_val, y_val), verbose=1, \n",
        "                              callbacks = [reduce_lr, early_stopping])"
      ],
      "execution_count": 63,
      "outputs": [
        {
          "output_type": "stream",
          "text": [
            "/usr/local/lib/python3.7/dist-packages/tensorflow/python/keras/engine/training.py:1844: UserWarning: `Model.fit_generator` is deprecated and will be removed in a future version. Please use `Model.fit`, which supports generators.\n",
            "  warnings.warn('`Model.fit_generator` is deprecated and '\n"
          ],
          "name": "stderr"
        },
        {
          "output_type": "stream",
          "text": [
            "Epoch 1/75\n",
            "638/638 [==============================] - 29s 45ms/step - loss: 0.4159 - accuracy: 0.8845 - val_loss: 0.3702 - val_accuracy: 0.8979\n",
            "Epoch 2/75\n",
            "638/638 [==============================] - 28s 44ms/step - loss: 0.3966 - accuracy: 0.8873 - val_loss: 0.3690 - val_accuracy: 0.8961\n",
            "Epoch 3/75\n",
            "638/638 [==============================] - 29s 45ms/step - loss: 0.3970 - accuracy: 0.8890 - val_loss: 0.4033 - val_accuracy: 0.8849\n",
            "Epoch 4/75\n",
            "638/638 [==============================] - 28s 44ms/step - loss: 0.3991 - accuracy: 0.8848 - val_loss: 0.4045 - val_accuracy: 0.8797\n",
            "Epoch 5/75\n",
            "638/638 [==============================] - 28s 44ms/step - loss: 0.3972 - accuracy: 0.8868 - val_loss: 0.4302 - val_accuracy: 0.8700\n",
            "Epoch 6/75\n",
            "638/638 [==============================] - 28s 45ms/step - loss: 0.3905 - accuracy: 0.8876 - val_loss: 0.3423 - val_accuracy: 0.9054\n",
            "Epoch 7/75\n",
            "638/638 [==============================] - 28s 44ms/step - loss: 0.3866 - accuracy: 0.8897 - val_loss: 0.3856 - val_accuracy: 0.8948\n",
            "Epoch 8/75\n",
            "638/638 [==============================] - 28s 44ms/step - loss: 0.3746 - accuracy: 0.8920 - val_loss: 0.3363 - val_accuracy: 0.9052\n",
            "Epoch 9/75\n",
            "638/638 [==============================] - 28s 44ms/step - loss: 0.3675 - accuracy: 0.8941 - val_loss: 0.3548 - val_accuracy: 0.8911\n",
            "Epoch 10/75\n",
            "638/638 [==============================] - 28s 44ms/step - loss: 0.3592 - accuracy: 0.8953 - val_loss: 0.3535 - val_accuracy: 0.8962\n",
            "Epoch 11/75\n",
            "638/638 [==============================] - 28s 44ms/step - loss: 0.3556 - accuracy: 0.8938 - val_loss: 0.3141 - val_accuracy: 0.9083\n",
            "Epoch 12/75\n",
            "638/638 [==============================] - 29s 46ms/step - loss: 0.3429 - accuracy: 0.8987 - val_loss: 0.3395 - val_accuracy: 0.8952\n",
            "Epoch 13/75\n",
            "638/638 [==============================] - 29s 45ms/step - loss: 0.3410 - accuracy: 0.8978 - val_loss: 0.2976 - val_accuracy: 0.9110\n",
            "Epoch 14/75\n",
            "638/638 [==============================] - 28s 44ms/step - loss: 0.3287 - accuracy: 0.9008 - val_loss: 0.3145 - val_accuracy: 0.9098\n",
            "Epoch 15/75\n",
            "638/638 [==============================] - 28s 44ms/step - loss: 0.3255 - accuracy: 0.9005 - val_loss: 0.2872 - val_accuracy: 0.9130\n",
            "Epoch 16/75\n",
            "638/638 [==============================] - 28s 44ms/step - loss: 0.3187 - accuracy: 0.9019 - val_loss: 0.3033 - val_accuracy: 0.9054\n",
            "Epoch 17/75\n",
            "638/638 [==============================] - 28s 44ms/step - loss: 0.3130 - accuracy: 0.9031 - val_loss: 0.2897 - val_accuracy: 0.9113\n",
            "Epoch 18/75\n",
            "638/638 [==============================] - 28s 44ms/step - loss: 0.3088 - accuracy: 0.9044 - val_loss: 0.2795 - val_accuracy: 0.9114\n",
            "Epoch 19/75\n",
            "638/638 [==============================] - 28s 44ms/step - loss: 0.3033 - accuracy: 0.9047 - val_loss: 0.2678 - val_accuracy: 0.9141\n",
            "Epoch 20/75\n",
            "638/638 [==============================] - 28s 44ms/step - loss: 0.2952 - accuracy: 0.9092 - val_loss: 0.2566 - val_accuracy: 0.9213\n",
            "Epoch 21/75\n",
            "638/638 [==============================] - 28s 44ms/step - loss: 0.2920 - accuracy: 0.9071 - val_loss: 0.2679 - val_accuracy: 0.9141\n",
            "Epoch 22/75\n",
            "638/638 [==============================] - 28s 44ms/step - loss: 0.2845 - accuracy: 0.9093 - val_loss: 0.2550 - val_accuracy: 0.9169\n",
            "Epoch 23/75\n",
            "638/638 [==============================] - 27s 43ms/step - loss: 0.2831 - accuracy: 0.9102 - val_loss: 0.2699 - val_accuracy: 0.9124\n",
            "Epoch 24/75\n",
            "638/638 [==============================] - 27s 43ms/step - loss: 0.2789 - accuracy: 0.9121 - val_loss: 0.2715 - val_accuracy: 0.9092\n",
            "Epoch 25/75\n",
            "638/638 [==============================] - 27s 42ms/step - loss: 0.2737 - accuracy: 0.9131 - val_loss: 0.2458 - val_accuracy: 0.9194\n",
            "Epoch 26/75\n",
            "638/638 [==============================] - 27s 42ms/step - loss: 0.2718 - accuracy: 0.9136 - val_loss: 0.2421 - val_accuracy: 0.9199\n",
            "Epoch 27/75\n",
            "638/638 [==============================] - 27s 43ms/step - loss: 0.2687 - accuracy: 0.9136 - val_loss: 0.2387 - val_accuracy: 0.9213\n",
            "Epoch 28/75\n",
            "638/638 [==============================] - 27s 42ms/step - loss: 0.2679 - accuracy: 0.9146 - val_loss: 0.2371 - val_accuracy: 0.9230\n",
            "Epoch 29/75\n",
            "638/638 [==============================] - 27s 42ms/step - loss: 0.2616 - accuracy: 0.9157 - val_loss: 0.2391 - val_accuracy: 0.9214\n",
            "Epoch 30/75\n",
            "638/638 [==============================] - 27s 42ms/step - loss: 0.2609 - accuracy: 0.9146 - val_loss: 0.2429 - val_accuracy: 0.9199\n",
            "Epoch 31/75\n",
            "638/638 [==============================] - 27s 42ms/step - loss: 0.2574 - accuracy: 0.9162 - val_loss: 0.2284 - val_accuracy: 0.9234\n",
            "Epoch 32/75\n",
            "638/638 [==============================] - 27s 42ms/step - loss: 0.2600 - accuracy: 0.9160 - val_loss: 0.2328 - val_accuracy: 0.9209\n",
            "Epoch 33/75\n",
            "638/638 [==============================] - 27s 42ms/step - loss: 0.2580 - accuracy: 0.9165 - val_loss: 0.2272 - val_accuracy: 0.9243\n",
            "Epoch 34/75\n",
            "638/638 [==============================] - 27s 42ms/step - loss: 0.2526 - accuracy: 0.9185 - val_loss: 0.2325 - val_accuracy: 0.9200\n",
            "Epoch 35/75\n",
            "638/638 [==============================] - 27s 42ms/step - loss: 0.2518 - accuracy: 0.9173 - val_loss: 0.2342 - val_accuracy: 0.9191\n",
            "Epoch 36/75\n",
            "638/638 [==============================] - 27s 43ms/step - loss: 0.2493 - accuracy: 0.9175 - val_loss: 0.2354 - val_accuracy: 0.9197\n",
            "Epoch 37/75\n",
            "638/638 [==============================] - 27s 42ms/step - loss: 0.2470 - accuracy: 0.9198 - val_loss: 0.2214 - val_accuracy: 0.9239\n",
            "Epoch 38/75\n",
            "638/638 [==============================] - 27s 43ms/step - loss: 0.2466 - accuracy: 0.9188 - val_loss: 0.2275 - val_accuracy: 0.9229\n",
            "Epoch 39/75\n",
            "638/638 [==============================] - 27s 42ms/step - loss: 0.2437 - accuracy: 0.9204 - val_loss: 0.2225 - val_accuracy: 0.9254\n",
            "Epoch 40/75\n",
            "638/638 [==============================] - 27s 42ms/step - loss: 0.2434 - accuracy: 0.9196 - val_loss: 0.2242 - val_accuracy: 0.9243\n",
            "Epoch 41/75\n",
            "638/638 [==============================] - 27s 42ms/step - loss: 0.2454 - accuracy: 0.9197 - val_loss: 0.2184 - val_accuracy: 0.9273\n",
            "Epoch 42/75\n",
            "638/638 [==============================] - 27s 43ms/step - loss: 0.2418 - accuracy: 0.9205 - val_loss: 0.2248 - val_accuracy: 0.9236\n",
            "Epoch 43/75\n",
            "638/638 [==============================] - 28s 44ms/step - loss: 0.2421 - accuracy: 0.9204 - val_loss: 0.2171 - val_accuracy: 0.9269\n",
            "Epoch 44/75\n",
            "638/638 [==============================] - 28s 45ms/step - loss: 0.2408 - accuracy: 0.9198 - val_loss: 0.2171 - val_accuracy: 0.9268\n",
            "Epoch 45/75\n",
            "638/638 [==============================] - 28s 44ms/step - loss: 0.2437 - accuracy: 0.9191 - val_loss: 0.2164 - val_accuracy: 0.9269\n",
            "Epoch 46/75\n",
            "638/638 [==============================] - 28s 44ms/step - loss: 0.2412 - accuracy: 0.9201 - val_loss: 0.2152 - val_accuracy: 0.9276\n",
            "Epoch 47/75\n",
            "638/638 [==============================] - 28s 44ms/step - loss: 0.2385 - accuracy: 0.9215 - val_loss: 0.2159 - val_accuracy: 0.9276\n",
            "Epoch 48/75\n",
            "638/638 [==============================] - 28s 44ms/step - loss: 0.2378 - accuracy: 0.9217 - val_loss: 0.2155 - val_accuracy: 0.9280\n",
            "Epoch 49/75\n",
            "638/638 [==============================] - 28s 44ms/step - loss: 0.2408 - accuracy: 0.9197 - val_loss: 0.2139 - val_accuracy: 0.9280\n",
            "Epoch 50/75\n",
            "638/638 [==============================] - 28s 45ms/step - loss: 0.2426 - accuracy: 0.9192 - val_loss: 0.2141 - val_accuracy: 0.9280\n",
            "Epoch 51/75\n",
            "638/638 [==============================] - 29s 45ms/step - loss: 0.2374 - accuracy: 0.9199 - val_loss: 0.2151 - val_accuracy: 0.9270\n",
            "Epoch 52/75\n",
            "638/638 [==============================] - 29s 45ms/step - loss: 0.2400 - accuracy: 0.9203 - val_loss: 0.2143 - val_accuracy: 0.9278\n",
            "Epoch 53/75\n",
            "638/638 [==============================] - 29s 45ms/step - loss: 0.2380 - accuracy: 0.9220 - val_loss: 0.2154 - val_accuracy: 0.9263\n",
            "Epoch 54/75\n",
            "638/638 [==============================] - 28s 44ms/step - loss: 0.2400 - accuracy: 0.9205 - val_loss: 0.2143 - val_accuracy: 0.9278\n",
            "Epoch 55/75\n",
            "638/638 [==============================] - 28s 44ms/step - loss: 0.2389 - accuracy: 0.9205 - val_loss: 0.2134 - val_accuracy: 0.9270\n",
            "Epoch 56/75\n",
            "638/638 [==============================] - 28s 44ms/step - loss: 0.2371 - accuracy: 0.9222 - val_loss: 0.2150 - val_accuracy: 0.9274\n",
            "Epoch 57/75\n",
            "638/638 [==============================] - 28s 44ms/step - loss: 0.2359 - accuracy: 0.9214 - val_loss: 0.2142 - val_accuracy: 0.9273\n",
            "Epoch 58/75\n",
            "638/638 [==============================] - 28s 44ms/step - loss: 0.2344 - accuracy: 0.9221 - val_loss: 0.2138 - val_accuracy: 0.9272\n",
            "Epoch 59/75\n",
            "638/638 [==============================] - 28s 44ms/step - loss: 0.2358 - accuracy: 0.9223 - val_loss: 0.2146 - val_accuracy: 0.9266\n",
            "Epoch 60/75\n",
            "638/638 [==============================] - 28s 44ms/step - loss: 0.2369 - accuracy: 0.9222 - val_loss: 0.2126 - val_accuracy: 0.9283\n",
            "Epoch 61/75\n",
            "638/638 [==============================] - 28s 44ms/step - loss: 0.2368 - accuracy: 0.9207 - val_loss: 0.2136 - val_accuracy: 0.9274\n",
            "Epoch 62/75\n",
            "638/638 [==============================] - 28s 44ms/step - loss: 0.2368 - accuracy: 0.9217 - val_loss: 0.2133 - val_accuracy: 0.9279\n",
            "Epoch 63/75\n",
            "638/638 [==============================] - 28s 44ms/step - loss: 0.2387 - accuracy: 0.9210 - val_loss: 0.2143 - val_accuracy: 0.9280\n",
            "Epoch 00063: early stopping\n"
          ],
          "name": "stdout"
        }
      ]
    },
    {
      "cell_type": "markdown",
      "metadata": {
        "id": "51zCtKx8uloS"
      },
      "source": [
        "**Plotting graphs**"
      ]
    },
    {
      "cell_type": "code",
      "metadata": {
        "colab": {
          "base_uri": "https://localhost:8080/",
          "height": 390
        },
        "id": "Yl4o4tSPuop8",
        "outputId": "8a088205-bf9e-47b1-cb27-ea021df6cf23"
      },
      "source": [
        "# Check how loss & mae went down\n",
        "epoch_loss = history.history['loss']\n",
        "epoch_val_loss = history.history['val_loss']\n",
        "epoch_acc = history.history['accuracy']\n",
        "epoch_val_acc = history.history['val_accuracy']\n",
        "\n",
        "plt.figure(figsize=(20,6))\n",
        "plt.subplot(1,2,1)\n",
        "plt.plot(range(0,len(epoch_loss)), epoch_loss, 'b-', linewidth=2, label='Train Loss')\n",
        "plt.plot(range(0,len(epoch_val_loss)), epoch_val_loss, 'r-', linewidth=2, label='Val Loss')\n",
        "plt.title('Evolution of LOSS on train & validation datasets over epochs')\n",
        "plt.legend(loc='best')\n",
        "\n",
        "plt.subplot(1,2,2)\n",
        "plt.plot(range(0,len(epoch_acc)), epoch_acc, 'b-', linewidth=2, label='Train Accuracy')\n",
        "plt.plot(range(0,len(epoch_val_acc)), epoch_val_acc, 'r-', linewidth=2,label='Val Accuracy')\n",
        "plt.title('Evolution of ACCURACY on train & validation datasets over epochs')\n",
        "plt.legend(loc='best')\n",
        "\n",
        "plt.show()"
      ],
      "execution_count": 70,
      "outputs": [
        {
          "output_type": "display_data",
          "data": {
            "image/png": "[encoded data removed]",
            "text/plain": [
              "<Figure size 1440x432 with 2 Axes>"
            ]
          },
          "metadata": {
            "tags": [],
            "needs_background": "light"
          }
        }
      ]
    },
    {
      "cell_type": "markdown",
      "metadata": {
        "id": "DK6_gCLYuTCy"
      },
      "source": [
        "**Evaluating model**"
      ]
    },
    {
      "cell_type": "code",
      "metadata": {
        "colab": {
          "base_uri": "https://localhost:8080/"
        },
        "id": "RpU5bl3EqqJT",
        "outputId": "fce388ad-b8d9-4471-991f-d675d34a82ca"
      },
      "source": [
        "score = model.evaluate(X_test, y_test)"
      ],
      "execution_count": 65,
      "outputs": [
        {
          "output_type": "stream",
          "text": [
            "313/313 [==============================] - 2s 7ms/step - loss: 0.2002 - accuracy: 0.9340\n"
          ],
          "name": "stdout"
        }
      ]
    },
    {
      "cell_type": "code",
      "metadata": {
        "colab": {
          "base_uri": "https://localhost:8080/"
        },
        "id": "hzGxdWYAu39T",
        "outputId": "711d4fc5-e6a3-4dd2-a18e-1f62c80c9dfd"
      },
      "source": [
        "print('Loss of the model: {:.4f}'.format(score[0]))\n",
        "print('Accuracy of the model: {:.4f}'.format(score[1]))"
      ],
      "execution_count": 66,
      "outputs": [
        {
          "output_type": "stream",
          "text": [
            "Loss of the model: 0.2002\n",
            "Accuracy of the model: 0.9340\n"
          ],
          "name": "stdout"
        }
      ]
    },
    {
      "cell_type": "markdown",
      "metadata": {
        "id": "QUT-e9YkvLPI"
      },
      "source": [
        "**Plotting confusion matrix**"
      ]
    },
    {
      "cell_type": "code",
      "metadata": {
        "id": "j5J31kqtvOHc"
      },
      "source": [
        "from sklearn.metrics import confusion_matrix, classification_report\n",
        "# Predict the values from the validation dataset\n",
        "y_pred = model.predict(X_test)\n",
        "\n",
        "# Convert predictions classes to one hot vectors \n",
        "y_pred_classes = np.argmax(y_pred,axis = 1) \n",
        "y_true = np.argmax(y_test,axis = 1) \n",
        "\n",
        "confusion_mtx = confusion_matrix(y_true, y_pred_classes) "
      ],
      "execution_count": 68,
      "outputs": []
    },
    {
      "cell_type": "code",
      "metadata": {
        "colab": {
          "base_uri": "https://localhost:8080/",
          "height": 357
        },
        "id": "oawuUeb7yl4Y",
        "outputId": "eaa33b2e-5d99-4bf0-b586-09e5da69a585"
      },
      "source": [
        "classes = ['T-shirt','Trouser','Pullover','Dress','Coat','Sandal','Shirt','Sneaker','Bag','Ankle Boot']\n",
        "plt.imshow(confusion_mtx, interpolation='nearest')\n",
        "plt.title('Confusion Matrix')\n",
        "plt.colorbar()\n",
        "tick_marks = np.arange(len(classes))\n",
        "plt.xticks(tick_marks, classes, rotation=90)\n",
        "plt.yticks(tick_marks, classes)\n",
        "\n",
        "thresh = confusion_mtx.max() / 2.\n",
        "for i, j in itertools.product(range(confusion_mtx.shape[0]), range(confusion_mtx.shape[1])):\n",
        "  plt.text(j, i, confusion_mtx[i, j],\n",
        "  horizontalalignment=\"center\",\n",
        "  color=\"white\" if confusion_mtx[i, j] > thresh else \"black\")\n",
        "\n",
        "\n",
        "plt.ylabel('True label')\n",
        "plt.xlabel('Predicted label')"
      ],
      "execution_count": 69,
      "outputs": [
        {
          "output_type": "execute_result",
          "data": {
            "text/plain": [
              "Text(0.5, 0, 'Predicted label')"
            ]
          },
          "metadata": {
            "tags": []
          },
          "execution_count": 69
        },
        {
          "output_type": "display_data",
          "data": {
            "image/png": "[encoded data removed]",
            "text/plain": [
              "<Figure size 432x288 with 2 Axes>"
            ]
          },
          "metadata": {
            "tags": [],
            "needs_background": "light"
          }
        }
      ]
    },
    {
      "cell_type": "markdown",
      "metadata": {
        "id": "TZFd2DUCMjQZ"
      },
      "source": [
        "**Correctly Predicted classes**"
      ]
    },
    {
      "cell_type": "code",
      "metadata": {
        "id": "PJyKbKRaNAZs"
      },
      "source": [
        "correct = []\n",
        "i = 0\n",
        "for i in range(0, len(y_test), 50):\n",
        "    if(y_pred_classes[i] == y_true[i]):\n",
        "        correct.append(i)\n",
        "    # i += 45\n",
        "    if(len(correct) == 4):\n",
        "        break"
      ],
      "execution_count": 88,
      "outputs": []
    },
    {
      "cell_type": "code",
      "metadata": {
        "id": "vOpZvJVRNLrq"
      },
      "source": [
        "# Mapping Classes\n",
        "clothing = {0 : 'T-shirt/top',\n",
        "            1 : 'Trouser',\n",
        "            2 : 'Pullover',\n",
        "            3 : 'Dress',\n",
        "            4 : 'Coat',\n",
        "            5 : 'Sandal',\n",
        "            6 : 'Shirt',\n",
        "            7 : 'Sneaker',\n",
        "            8 : 'Bag',\n",
        "            9 : 'Ankle boot'}"
      ],
      "execution_count": 89,
      "outputs": []
    },
    {
      "cell_type": "code",
      "metadata": {
        "colab": {
          "base_uri": "https://localhost:8080/",
          "height": 641
        },
        "id": "iMNwRtkRzXLv",
        "outputId": "3f3d0d88-557b-402e-fb45-3800de767c9e"
      },
      "source": [
        "fig, ax = plt.subplots(2,2, figsize=(12,6))\n",
        "fig.set_size_inches(10,10)\n",
        "ax[0,0].imshow(X_test[correct[0]].reshape(28,28), cmap='gray')\n",
        "ax[0,0].set_title(\"Predicted Label : \" + str(clothing[y_pred_classes[correct[0]]]) + \"\\n\"+\"Actual Label : \" + \n",
        "                 str(clothing[y_true[correct[0]]]))\n",
        "ax[0,1].imshow(X_test[correct[1]].reshape(28,28), cmap='gray')\n",
        "ax[0,1].set_title(\"Predicted Label : \" + str(clothing[y_pred_classes[correct[1]]]) + \"\\n\"+\"Actual Label : \" + \n",
        "                 str(clothing[y_true[correct[1]]]))\n",
        "ax[1,0].imshow(X_test[correct[2]].reshape(28,28), cmap='gray')\n",
        "ax[1,0].set_title(\"Predicted Label : \" + str(clothing[y_pred_classes[correct[2]]]) + \"\\n\"+\"Actual Label : \" + \n",
        "                 str(clothing[y_true[correct[2]]]))\n",
        "ax[1,1].imshow(X_test[correct[3]].reshape(28,28), cmap='gray')\n",
        "ax[1,1].set_title(\"Predicted Label : \" + str(clothing[y_pred_classes[correct[3]]]) + \"\\n\"+\"Actual Label : \" + \n",
        "                 str(clothing[y_true[correct[3]]]))"
      ],
      "execution_count": 90,
      "outputs": [
        {
          "output_type": "execute_result",
          "data": {
            "text/plain": [
              "Text(0.5, 1.0, 'Predicted Label : Coat\\nActual Label : Coat')"
            ]
          },
          "metadata": {
            "tags": []
          },
          "execution_count": 90
        },
        {
          "output_type": "display_data",
          "data": {
            "image/png": "[encoded data removed]",
            "text/plain": [
              "<Figure size 720x720 with 4 Axes>"
            ]
          },
          "metadata": {
            "tags": [],
            "needs_background": "light"
          }
        }
      ]
    },
    {
      "cell_type": "markdown",
      "metadata": {
        "id": "3c55ahBfO94o"
      },
      "source": [
        "**Incorrectly predicted classes**"
      ]
    },
    {
      "cell_type": "code",
      "metadata": {
        "id": "tDrrGIOpMt1y"
      },
      "source": [
        "incorrect = []\n",
        "i = 0\n",
        "for i in range(0, len(y_test), 50):\n",
        "    if(not y_pred_classes[i] == y_true[i]):\n",
        "        incorrect.append(i)\n",
        "    # i += 45\n",
        "    if(len(incorrect) == 4):\n",
        "        break"
      ],
      "execution_count": 91,
      "outputs": []
    },
    {
      "cell_type": "code",
      "metadata": {
        "colab": {
          "base_uri": "https://localhost:8080/",
          "height": 641
        },
        "id": "tSACl-FYPK7_",
        "outputId": "b06bf1f7-945a-4fc8-ac75-efa73ed8ec59"
      },
      "source": [
        "fig, ax = plt.subplots(2,2, figsize=(12,6))\n",
        "fig.set_size_inches(10,10)\n",
        "ax[0,0].imshow(X_test[incorrect[0]].reshape(28,28), cmap='gray')\n",
        "ax[0,0].set_title(\"Predicted Label : \" + str(clothing[y_pred_classes[incorrect[0]]]) + \"\\n\"+\"Actual Label : \" + \n",
        "                 str(clothing[y_true[incorrect[0]]]))\n",
        "ax[0,1].imshow(X_test[incorrect[1]].reshape(28,28), cmap='gray')\n",
        "ax[0,1].set_title(\"Predicted Label : \" + str(clothing[y_pred_classes[incorrect[1]]]) + \"\\n\"+\"Actual Label : \" + \n",
        "                 str(clothing[y_true[incorrect[1]]]))\n",
        "ax[1,0].imshow(X_test[incorrect[2]].reshape(28,28), cmap='gray')\n",
        "ax[1,0].set_title(\"Predicted Label : \" + str(clothing[y_pred_classes[incorrect[2]]]) + \"\\n\"+\"Actual Label : \" + \n",
        "                 str(clothing[y_true[incorrect[2]]]))\n",
        "ax[1,1].imshow(X_test[incorrect[3]].reshape(28,28), cmap='gray')\n",
        "ax[1,1].set_title(\"Predicted Label : \" + str(clothing[y_pred_classes[incorrect[3]]]) + \"\\n\"+\"Actual Label : \" + \n",
        "                 str(clothing[y_true[incorrect[3]]]))"
      ],
      "execution_count": 94,
      "outputs": [
        {
          "output_type": "execute_result",
          "data": {
            "text/plain": [
              "Text(0.5, 1.0, 'Predicted Label : Coat\\nActual Label : Pullover')"
            ]
          },
          "metadata": {
            "tags": []
          },
          "execution_count": 94
        },
        {
          "output_type": "display_data",
          "data": {
            "image/png": "[encoded data removed]",
            "text/plain": [
              "<Figure size 720x720 with 4 Axes>"
            ]
          },
          "metadata": {
            "tags": [],
            "needs_background": "light"
          }
        }
      ]
    },
    {
      "cell_type": "code",
      "metadata": {
        "id": "DIhtEfeUPNl-"
      },
      "source": [
        ""
      ],
      "execution_count": null,
      "outputs": []
    }
  ]
}